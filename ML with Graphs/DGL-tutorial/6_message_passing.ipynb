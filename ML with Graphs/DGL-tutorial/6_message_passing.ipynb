{
  "cells": [
    {
      "cell_type": "markdown",
      "metadata": {
        "id": "KgOQ6pFms20R"
      },
      "source": [
        "# Customize Graph Convolution using Message Passing APIs\n",
        "# Message Passing API로 그래프 컨볼루션 커스터마이징하기\n",
        "\n",
        "\n",
        "이전 세션까지, built-in된 [graph convolution modules](https://docs.dgl.ai/api/python/nn.pytorch.html#module-dgl.nn.pytorch.conv)을 사용해 다중 레이어 그래프 뉴럴넷을 구축했습니다.  \n",
        "하지만, 때때로 이웃 정보를 통합하는 새로운 방법을 개발하고 싶을 수도 있겠죠.  \n",
        "DGL의 message passing API는 이런 상황을 위해 설계되었습니다.  \n",
        "\n",
        "이 튜토리얼에서, 이런 것들을 배울 수 있습니다.  \n",
        "\n",
        "* DGL의 `nn.SAGEConv` 모듈의 내부는 어떻게 돌아갈까?  \n",
        "* DGL의 message passing API\n",
        "* 새로운 그래프 컨볼루션 모듈 설계하기"
      ]
    },
    {
      "cell_type": "code",
      "source": [
        "pip install dgl"
      ],
      "metadata": {
        "colab": {
          "base_uri": "https://localhost:8080/"
        },
        "id": "k-O1j3AWtMRr",
        "outputId": "f8e76855-c739-4d3b-9335-01b0d33a8a0f"
      },
      "execution_count": 1,
      "outputs": [
        {
          "output_type": "stream",
          "name": "stdout",
          "text": [
            "Looking in indexes: https://pypi.org/simple, https://us-python.pkg.dev/colab-wheels/public/simple/\n",
            "Requirement already satisfied: dgl in /usr/local/lib/python3.9/dist-packages (1.0.1)\n",
            "Requirement already satisfied: numpy>=1.14.0 in /usr/local/lib/python3.9/dist-packages (from dgl) (1.22.4)\n",
            "Requirement already satisfied: psutil>=5.8.0 in /usr/local/lib/python3.9/dist-packages (from dgl) (5.9.4)\n",
            "Requirement already satisfied: tqdm in /usr/local/lib/python3.9/dist-packages (from dgl) (4.65.0)\n",
            "Requirement already satisfied: networkx>=2.1 in /usr/local/lib/python3.9/dist-packages (from dgl) (3.0)\n",
            "Requirement already satisfied: scipy>=1.1.0 in /usr/local/lib/python3.9/dist-packages (from dgl) (1.10.1)\n",
            "Requirement already satisfied: requests>=2.19.0 in /usr/local/lib/python3.9/dist-packages (from dgl) (2.27.1)\n",
            "Requirement already satisfied: charset-normalizer~=2.0.0 in /usr/local/lib/python3.9/dist-packages (from requests>=2.19.0->dgl) (2.0.12)\n",
            "Requirement already satisfied: urllib3<1.27,>=1.21.1 in /usr/local/lib/python3.9/dist-packages (from requests>=2.19.0->dgl) (1.26.15)\n",
            "Requirement already satisfied: certifi>=2017.4.17 in /usr/local/lib/python3.9/dist-packages (from requests>=2.19.0->dgl) (2022.12.7)\n",
            "Requirement already satisfied: idna<4,>=2.5 in /usr/local/lib/python3.9/dist-packages (from requests>=2.19.0->dgl) (3.4)\n"
          ]
        }
      ]
    },
    {
      "cell_type": "code",
      "execution_count": 2,
      "metadata": {
        "id": "8k4oAcjAs20X"
      },
      "outputs": [],
      "source": [
        "import dgl\n",
        "import torch\n",
        "import torch.nn as nn\n",
        "import torch.nn.functional as F"
      ]
    },
    {
      "cell_type": "markdown",
      "metadata": {
        "id": "DmjR1CCVs20c"
      },
      "source": [
        "## Message passing과 GNN\n",
        "\n",
        "DGL은 [Gilmer et al.](https://arxiv.org/abs/1704.01212)에 의해 제안된 Message Passing Neural Network에서 고안된  *message passing 패러다임*을 따릅니다.  \n",
        "기본적으로, 연구진은 많은 GNN 모델이 다음 프레임워크에 들어맞는다는 것을 발견했습니다.  \n",
        "\n",
        "$$\n",
        "m_{u\\sim v}^{(l)} = M^{(l)}\\left(h_v^{(l-1)}, h_u^{(l-1)}, e_{u\\sim v}^{(l-1)}\\right)\n",
        "$$\n",
        "\n",
        "$$\n",
        "m_{v}^{(l)} = \\sum_{u\\in\\mathcal{N}(v)}m_{u\\sim v}^{(l)}\n",
        "$$\n",
        "\n",
        "$$\n",
        "h_v^{(l)} = U^{(l)}\\left(h_v^{(l-1)}, m_v^{(l)}\\right)\n",
        "$$\n",
        "\n",
        "DGL은 $M^{(l)}$ 을 *message function*라 부르며, $\\sum$을 the *reduce function*이라 부릅니다.   \n",
        "\n",
        "여기서 $\\sum$은 어떤 함수든 표현할 수 있으며 꼭 반드시 summation일 필요는 없습니다."
      ]
    },
    {
      "cell_type": "markdown",
      "metadata": {
        "id": "_qf_xbOXs20d"
      },
      "source": [
        "가령, GraphSAGE 모델은 다음의 수식적인 형태를 갖고 있습니다.\n",
        "\n",
        "$$\n",
        "h_{\\mathcal{N}(v)}^k\\leftarrow \\text{Average}\\{h_u^{k-1},\\forall u\\in\\mathcal{N}(v)\\}\n",
        "$$\n",
        "\n",
        "$$\n",
        "h_v^k\\leftarrow \\text{ReLU}\\left(W^k\\cdot \\text{CONCAT}(h_v^{k-1}, h_{\\mathcal{N}(v)}^k) \\right)\n",
        "$$\n",
        "\n",
        "message passing이 유방향적이라는 것을 볼 수 있죠.  \n",
        "즉, 한 노드 $u$에서 $v$로 보내진 메시지는 반대 방향인 노드 $v$에서 노드 $u$로 보내진 다른 메시지와 꼭 같을 필요는 없다는 말입니다.  \n",
        "\n",
        "DGL 그래프는 message passing을 수행하는 데 사용할 `srcdata` 와 `dstdata`라는 녀석을 제공합니다.  \n",
        "먼저 인풋 노드 피처를 `srcdata`에 넣고, message passing을 수행하면,  \n",
        "`dstdata`로부터 message passing의 결과를 가져올 수 있습니다.\n",
        "\n",
        "<div class=\"alert alert-info\">\n",
        "    <b>주의: </b> 전체 그래프(full graph)의 message passing에서, 인풋 노드와 아웃풋 노드는 전체 노드 집합입니다. 그러므로, 동질적(homogeneous) 그래프(즉 오직 1개의 노드 타입과 1개의 엣지 타입만을 가지고 있는 그래프)의 <code>srcdata</code> 와 <code>dstdata</code>는 <code>ndata</code>와 동일합니다.  \n",
        "    튜토리얼 섹션 내의 모든 그래프는 동질적입니다.\n",
        "</div>\n",
        "\n",
        "예를 들어, 여기에서 GraphSAGE 컨볼루션을 DGL로 어떻게 구현하는지 보여줍니다.\n",
        "For example, here is how you can implement GraphSAGE convolution in DGL."
      ]
    },
    {
      "cell_type": "markdown",
      "source": [
        "v의 neighbors에 대해 메세지를 얻는다는 식의 notation -> 교재\n",
        "여기서 : u -> v 연결에 대해서 u의 이전표현, v의 이전 표현, 연결에 대한 표현을 l-1번째 layer에서 표현으로부터 l번째 층으로 메세지를 전달해주는 것을 연결마다 정의해줄 수 있고 이것들을 reduce function을 통해 하나의 메세지로 취합해줄 수 있음\n",
        "그 메세지와 해당 노드의 이전 표현을 업데이트해주는 update function까지 message function, reduce function, update function 3개로 구분해서 설명\n",
        "\n",
        "**아래 수식 설명**\n",
        "average를 통해서 hidden 표현을 업그레이드할 수 있고 이것을 이전 layer의 표현과 concat해서 linear interpolation해서 relu를 적용\n",
        "### gcn이 인기 많은 이유\n",
        "- SAVEConv 모델이 아닌 다른 Conv모델을 사용하여 커스터마이즈해서 아키텍쳐를 설계할 수 있다는 장점점\n",
        "\n"
      ],
      "metadata": {
        "id": "IVM_ZdbBth8v"
      }
    },
    {
      "cell_type": "code",
      "execution_count": 3,
      "metadata": {
        "id": "vdYX6cjVs20f"
      },
      "outputs": [],
      "source": [
        "import dgl.function as fn\n",
        "\n",
        "class SAGEConv(nn.Module):\n",
        "    \"\"\"Graph convolution module used by the GraphSAGE model.\n",
        "    \n",
        "    Parameters\n",
        "    ----------\n",
        "    in_feat : int\n",
        "        Input feature size.\n",
        "    out_feat : int\n",
        "        Output feature size.\n",
        "    \"\"\"\n",
        "    def __init__(self, in_feat, out_feat):\n",
        "        super(SAGEConv, self).__init__()\n",
        "        # A linear submodule for projecting the input and neighbor feature to the output.\n",
        "        self.linear = nn.Linear(in_feat * 2, out_feat) # Linear로 취합\n",
        "    \n",
        "    def forward(self, g, h):\n",
        "        \"\"\"Forward computation\n",
        "        \n",
        "        Parameters\n",
        "        ----------\n",
        "        g : Graph\n",
        "            The input graph.\n",
        "        h : Tensor\n",
        "            The input node feature.\n",
        "        \"\"\"\n",
        "        with g.local_scope():\n",
        "            g.srcdata['h'] = h\n",
        "            # update_all is a message passing API.\n",
        "            g.update_all(fn.copy_u('h', 'm'), fn.mean('m', 'h_neigh'))\n",
        "            h_neigh = g.dstdata['h_neigh'] # neighbors의 표현\n",
        "            h_total = torch.cat([h_dst, h_neigh], dim=1) # 이전 layer의 표현과 neighbors의 표현을 concat\n",
        "            return F.relu(self.linear(h_total)) # self linear 이후 relu 적용"
      ]
    },
    {
      "cell_type": "markdown",
      "metadata": {
        "id": "Cxk7ZACks20h"
      },
      "source": [
        "코드의 가운데 부분은 `g.update_all` 함수인데, 이는 이웃 피처를 수집하고 평균을 내는 역할을 합니다.  \n",
        "\n",
        "여기에 총 3개의 개념이 등장합니다.  \n",
        "\n",
        "* Message 함수 `fn.copy_u('h', 'm')`는 *messages*가 이웃에 전달될 때 '`h`'의 노드 피처를 복사함\n",
        "* Reduce 함수 `fn.mean('m', 'h_neigh')`는 모든 수신된 `'m'`의 message를 평균내고 그 결과를 새로운 노드 피처 `'h_neigh'`에 저장함.\n",
        "* `update_all`은 DGL에게 message를 시작하고 모든 노드와 엣지에 대해 reduce 함수를 실행하게 합니다.\n"
      ]
    },
    {
      "cell_type": "markdown",
      "metadata": {
        "id": "9x-YZY1vs20i"
      },
      "source": [
        "\n",
        "## 더욱 정밀한 커스터마이징\n",
        "\n",
        "DGL에서는, `dgl.function` 패키지에서 많은 built-in message와 reduce 함수를 제공합니다. \n",
        "\n",
        "![api](https://github.com/myeonghak/DGL-tutorial/blob/master/asset/dgl-mp.png?raw=1)\n",
        "\n",
        "더 많은 정보는 [the API doc](https://docs.dgl.ai/api/python/function.html)에서 보실 수 있습니다."
      ]
    },
    {
      "cell_type": "markdown",
      "metadata": {
        "id": "vThEh0EVs20i"
      },
      "source": [
        "이 API들은 새로운 그래프 컨볼루션 모듈을 빠르게 구현할 수 있도록 해줍니다.  \n",
        "예를 들어, 아래는  이웃의 표현을 가중 평균으로 통합하는 새로운 `SAGEConv`를 구현합니다.  \n",
        "`edata`가 message passing에 참여할 수도 있는 엣지 피처를 가지고 있을 수 있다는 것을 주목해 주세요."
      ]
    },
    {
      "cell_type": "code",
      "execution_count": 4,
      "metadata": {
        "id": "EOROfmnQs20j"
      },
      "outputs": [],
      "source": [
        "class SAGEConv(nn.Module):\n",
        "    \"\"\"Graph convolution module used by the GraphSAGE model.\n",
        "    \n",
        "    Parameters\n",
        "    ----------\n",
        "    in_feat : int\n",
        "        Input feature size.\n",
        "    out_feat : int\n",
        "        Output feature size.\n",
        "    \"\"\"\n",
        "    def __init__(self, in_feat, out_feat):\n",
        "        super(SAGEConv, self).__init__()\n",
        "        # A linear submodule for projecting the input and neighbor feature to the output.\n",
        "        self.linear = nn.Linear(in_feat * 2, out_feat)\n",
        "    \n",
        "    def forward(self, g, h, w):\n",
        "        \"\"\"Forward computation\n",
        "        \n",
        "        Parameters\n",
        "        ----------\n",
        "        g : Graph\n",
        "            The input graph.\n",
        "        h : Tensor\n",
        "            The input node feature.\n",
        "        w : Tensor\n",
        "            The edge weight.\n",
        "        \"\"\"\n",
        "        h_dst = h[:g.number_of_dst_nodes()]\n",
        "        with g.local_scope():\n",
        "            g.srcdata['h'] = h\n",
        "            g.edata['w'] = w\n",
        "            # update_all is a message passing API.\n",
        "            g.update_all(fn.u_mul_e('h', 'w', 'm'), fn.mean('m', 'h_neigh'))\n",
        "            h_neigh = g.dstdata['h_neigh']\n",
        "            h_total = torch.cat([h_dst, h_neigh], dim=1)\n",
        "            return F.relu(self.linear(h_total))"
      ]
    },
    {
      "cell_type": "markdown",
      "metadata": {
        "id": "gxBDYbR5s20l"
      },
      "source": [
        "## 사용자 정의 함수를 통한 훨씬 더 정교한 커스터마이징\n",
        "\n",
        "DGL은 최고의 자유도를 위해 사용자 정의 message와 reduce 함수를 허용합니다.  \n",
        "여기에서, 사용자 정의 message 함수는 `fn.u_mul_e('h', 'w', 'm')`와 동일합니다."
      ]
    },
    {
      "cell_type": "code",
      "execution_count": 5,
      "metadata": {
        "id": "sqkYykd4s20m"
      },
      "outputs": [],
      "source": [
        "def u_mul_e_udf(edges):\n",
        "    return {'m' : edges.src['h'] * edges.data['w']}"
      ]
    },
    {
      "cell_type": "markdown",
      "metadata": {
        "id": "tQJxr94es20n"
      },
      "source": [
        "`edges`는 3개로 구성되어 있습니다. `src`, `data` 그리고 `dst`입니다.  \n",
        "소스 노드 피처, 엣지 피처, 목적지 노드 피처를 모든 엣지에 대해 표현해 줍니다."
      ]
    },
    {
      "cell_type": "markdown",
      "metadata": {
        "id": "bRkNTYwrs20n"
      },
      "source": [
        "## Recap\n",
        "## 복습\n",
        "\n",
        "* `srcdata` 와 `dstdata`를 인풋 노드 피처를 할당하고 아웃풋 노드 피처를 가져오는 데 사용하세요.\n",
        "* `dgl.function`의 built-in message와 reduce 함수를 사용해 새로운 NN 모듈을 커스터마이징 하세요.\n",
        "* 사용자 정의 함수는 훨씬 더 정교한 커스터마이징을 제공합니다."
      ]
    },
    {
      "cell_type": "markdown",
      "source": [
        "# Graph neural networks\n",
        "- GCN\n",
        "- GAT : attention 메커니즘 적용\n",
        "- Relational GCN : edge의 타입이 여러개인 것을 허용함 이종 그래프 같은거 적용 가능"
      ],
      "metadata": {
        "id": "S0siL9Wy1rRs"
      }
    }
  ],
  "metadata": {
    "kernelspec": {
      "display_name": "Python 3",
      "language": "python",
      "name": "python3"
    },
    "language_info": {
      "codemirror_mode": {
        "name": "ipython",
        "version": 3
      },
      "file_extension": ".py",
      "mimetype": "text/x-python",
      "name": "python",
      "nbconvert_exporter": "python",
      "pygments_lexer": "ipython3",
      "version": "3.8.3"
    },
    "colab": {
      "provenance": []
    }
  },
  "nbformat": 4,
  "nbformat_minor": 0
}