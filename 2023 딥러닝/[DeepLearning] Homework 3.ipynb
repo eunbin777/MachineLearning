{
  "nbformat": 4,
  "nbformat_minor": 0,
  "metadata": {
    "colab": {
      "provenance": []
    },
    "kernelspec": {
      "name": "python3",
      "display_name": "Python 3"
    },
    "language_info": {
      "name": "python"
    }
  },
  "cells": [
    {
      "cell_type": "code",
      "source": [
        "import numpy as np\n",
        "from tensorflow.keras.datasets import imdb\n",
        "from tensorflow.keras.models import Sequential\n",
        "from tensorflow.keras.layers import Dense, SimpleRNN\n",
        "from tensorflow.keras.preprocessing import sequence\n",
        "\n",
        "# 데이터 로드\n",
        "(x_train, y_train), (x_test, y_test) = imdb.load_data(num_words=10000)\n",
        "\n",
        "# 데이터 전처리\n",
        "max_len = 100  # 시퀀스 길이\n",
        "x_train = sequence.pad_sequences(x_train, maxlen=max_len)\n",
        "x_test = sequence.pad_sequences(x_test, maxlen=max_len)\n",
        "\n",
        "# 첫 번째 모델 구성\n",
        "model1 = Sequential()\n",
        "model1.add(SimpleRNN(units=32, input_shape=(max_len, 1)))\n",
        "model1.add(Dense(units=1, activation='sigmoid'))\n",
        "\n",
        "# 첫 번째 모델 컴파일\n",
        "model1.compile(loss='binary_crossentropy', optimizer='adam', metrics=['accuracy'])\n",
        "\n",
        "# 첫 번째 모델 훈련\n",
        "history1 = model1.fit(x_train, y_train, validation_data=(x_test, y_test), epochs=10, batch_size=128)\n",
        "\n",
        "# 두 번째 모델 구성\n",
        "model2 = Sequential()\n",
        "model2.add(SimpleRNN(units=64, input_shape=(max_len, 1), return_sequences=True))\n",
        "model2.add(SimpleRNN(units=32))\n",
        "model2.add(Dense(units=1, activation='sigmoid'))\n",
        "\n",
        "# 두 번째 모델 컴파일\n",
        "model2.compile(loss='binary_crossentropy', optimizer='adam', metrics=['accuracy'])\n",
        "\n",
        "# 두 번째 모델 훈련\n",
        "history2 = model2.fit(x_train, y_train, validation_data=(x_test, y_test), epochs=10, batch_size=128)\n",
        "\n",
        "# 첫 번째 모델의 훈련 및 검증 손실 출력\n",
        "train_loss1 = history1.history['loss']\n",
        "val_loss1 = history1.history['val_loss']\n",
        "print(\"첫 번째 모델 훈련 손실:\", train_loss1)\n",
        "print(\"첫 번째 모델 검증 손실:\", val_loss1)\n",
        "\n",
        "# 두 번째 모델의 훈련 및 검증 손실 출력\n",
        "train_loss2 = history2.history['loss']\n",
        "val_loss2 = history2.history['val_loss']\n",
        "print(\"두 번째 모델 훈련 손실:\", train_loss2)\n",
        "print(\"두 번째 모델 검증 손실:\", val_loss2)\n"
      ],
      "metadata": {
        "colab": {
          "base_uri": "https://localhost:8080/"
        },
        "id": "R-mgh8aDfl5v",
        "outputId": "5c0571c6-579c-412e-e00b-00e9848a82ad"
      },
      "execution_count": 2,
      "outputs": [
        {
          "output_type": "stream",
          "name": "stdout",
          "text": [
            "Epoch 1/10\n",
            "196/196 [==============================] - 8s 35ms/step - loss: 0.6951 - accuracy: 0.4993 - val_loss: 0.6931 - val_accuracy: 0.5016\n",
            "Epoch 2/10\n",
            "196/196 [==============================] - 8s 40ms/step - loss: 0.6935 - accuracy: 0.5072 - val_loss: 0.6936 - val_accuracy: 0.5023\n",
            "Epoch 3/10\n",
            "196/196 [==============================] - 6s 32ms/step - loss: 0.6933 - accuracy: 0.5086 - val_loss: 0.6955 - val_accuracy: 0.5046\n",
            "Epoch 4/10\n",
            "196/196 [==============================] - 7s 34ms/step - loss: 0.6933 - accuracy: 0.5102 - val_loss: 0.6947 - val_accuracy: 0.5017\n",
            "Epoch 5/10\n",
            "196/196 [==============================] - 6s 33ms/step - loss: 0.6930 - accuracy: 0.5094 - val_loss: 0.6933 - val_accuracy: 0.5075\n",
            "Epoch 6/10\n",
            "196/196 [==============================] - 8s 39ms/step - loss: 0.6928 - accuracy: 0.5103 - val_loss: 0.6931 - val_accuracy: 0.5044\n",
            "Epoch 7/10\n",
            "196/196 [==============================] - 5s 27ms/step - loss: 0.6932 - accuracy: 0.5068 - val_loss: 0.6936 - val_accuracy: 0.5050\n",
            "Epoch 8/10\n",
            "196/196 [==============================] - 8s 40ms/step - loss: 0.6929 - accuracy: 0.5130 - val_loss: 0.6938 - val_accuracy: 0.5026\n",
            "Epoch 9/10\n",
            "196/196 [==============================] - 5s 27ms/step - loss: 0.6928 - accuracy: 0.5074 - val_loss: 0.6927 - val_accuracy: 0.5101\n",
            "Epoch 10/10\n",
            "196/196 [==============================] - 7s 33ms/step - loss: 0.6927 - accuracy: 0.5062 - val_loss: 0.6942 - val_accuracy: 0.5063\n",
            "Epoch 1/10\n",
            "196/196 [==============================] - 21s 96ms/step - loss: 0.6955 - accuracy: 0.5061 - val_loss: 0.6974 - val_accuracy: 0.5003\n",
            "Epoch 2/10\n",
            "196/196 [==============================] - 17s 88ms/step - loss: 0.6940 - accuracy: 0.5067 - val_loss: 0.6934 - val_accuracy: 0.5047\n",
            "Epoch 3/10\n",
            "196/196 [==============================] - 17s 87ms/step - loss: 0.6929 - accuracy: 0.5120 - val_loss: 0.6929 - val_accuracy: 0.5140\n",
            "Epoch 4/10\n",
            "196/196 [==============================] - 18s 94ms/step - loss: 0.6930 - accuracy: 0.5136 - val_loss: 0.6926 - val_accuracy: 0.5120\n",
            "Epoch 5/10\n",
            "196/196 [==============================] - 17s 87ms/step - loss: 0.6929 - accuracy: 0.5170 - val_loss: 0.6937 - val_accuracy: 0.5053\n",
            "Epoch 6/10\n",
            "196/196 [==============================] - 18s 93ms/step - loss: 0.6928 - accuracy: 0.5124 - val_loss: 0.6934 - val_accuracy: 0.5098\n",
            "Epoch 7/10\n",
            "196/196 [==============================] - 18s 93ms/step - loss: 0.6921 - accuracy: 0.5171 - val_loss: 0.6943 - val_accuracy: 0.5065\n",
            "Epoch 8/10\n",
            "196/196 [==============================] - 17s 87ms/step - loss: 0.6917 - accuracy: 0.5184 - val_loss: 0.6920 - val_accuracy: 0.5152\n",
            "Epoch 9/10\n",
            "196/196 [==============================] - 18s 93ms/step - loss: 0.6912 - accuracy: 0.5212 - val_loss: 0.6961 - val_accuracy: 0.5060\n",
            "Epoch 10/10\n",
            "196/196 [==============================] - 17s 87ms/step - loss: 0.6910 - accuracy: 0.5252 - val_loss: 0.6926 - val_accuracy: 0.5192\n",
            "첫 번째 모델 훈련 손실: [0.6950741410255432, 0.6934760212898254, 0.693250298500061, 0.6932846307754517, 0.6929520964622498, 0.6928388476371765, 0.6931501030921936, 0.6928738951683044, 0.6928006410598755, 0.6927486062049866]\n",
            "첫 번째 모델 검증 손실: [0.6930941939353943, 0.6936377882957458, 0.695531964302063, 0.6946784257888794, 0.6933339834213257, 0.6930720210075378, 0.6936432123184204, 0.6937985420227051, 0.6926769614219666, 0.6942163109779358]\n",
            "두 번째 모델 훈련 손실: [0.6955088376998901, 0.693999707698822, 0.6929178237915039, 0.6930126547813416, 0.6928937435150146, 0.6927579641342163, 0.6920601725578308, 0.6916704177856445, 0.6912415623664856, 0.6910412311553955]\n",
            "두 번째 모델 검증 손실: [0.697413444519043, 0.693401575088501, 0.6928946375846863, 0.6925935745239258, 0.6936606168746948, 0.6934341192245483, 0.6943402290344238, 0.6920336484909058, 0.6961001753807068, 0.6926254630088806]\n"
          ]
        }
      ]
    }
  ]
}