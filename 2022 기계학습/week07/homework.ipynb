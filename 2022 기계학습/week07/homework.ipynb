{
 "cells": [
  {
   "cell_type": "code",
   "execution_count": 1,
   "metadata": {},
   "outputs": [
    {
     "name": "stdout",
     "output_type": "stream",
     "text": [
      "5    681\n",
      "6    638\n",
      "7    199\n",
      "4     53\n",
      "8     18\n",
      "3     10\n",
      "Name: quality, dtype: int64\n"
     ]
    }
   ],
   "source": [
    "import numpy as np\n",
    "import pandas as pds\n",
    "import os\n",
    "\n",
    "import matplotlib as MP\n",
    "from matplotlib import pyplot as plt\n",
    "import seaborn as sbn\n",
    "\n",
    "data = pds.read_csv(\n",
    "    '../files/week06/Week 06. data-wine-red.csv',\n",
    "    delimiter=';'\n",
    ")\n",
    "\n",
    "print(data.quality.value_counts())\n",
    "data.quality -= 3"
   ]
  },
  {
   "cell_type": "code",
   "execution_count": 2,
   "metadata": {},
   "outputs": [],
   "source": [
    "from itertools import product\n",
    "from collections import Counter\n",
    "\n",
    "from sklearn.preprocessing import StandardScaler\n",
    "from sklearn.model_selection import StratifiedKFold\n",
    "\n",
    "from sklearn.neighbors import KNeighborsClassifier as KNC\n",
    "\n",
    "def ss_kfold_fn(data, scaling = True):\n",
    "    kf = StratifiedKFold()\n",
    "    for n, (train_idx, valid_idx) in enumerate(kf.split(data, data.quality)):\n",
    "        \n",
    "        scaler_x = StandardScaler()\n",
    "        \n",
    "        if scaling:\n",
    "            train_x = scaler_x.fit_transform(data.iloc[train_idx].drop(columns = 'quality'))\n",
    "            valid_x = scaler_x.transform(data.iloc[valid_idx].drop(columns = 'quality'))\n",
    "            \n",
    "        else:\n",
    "            train_x = data.iloc[train_idx].drop(columns = 'quality').values\n",
    "            valid_x = data.iloc[valid_idx].drop(columns = 'quality').values\n",
    "\n",
    "        train_y = data.iloc[train_idx]['quality'].values.reshape(-1,1)\n",
    "        valid_y = data.iloc[valid_idx]['quality'].values.reshape(-1,1)\n",
    "        \n",
    "        yield [\n",
    "            [train_x, train_y],\n",
    "            [valid_x, valid_y]\n",
    "        ], (scaler_x)\n"
   ]
  },
  {
   "cell_type": "code",
   "execution_count": 16,
   "metadata": {},
   "outputs": [],
   "source": [
    "model = KNC( n_neighbors = 7, weights = 'distance')\n",
    "\n",
    "scalers = []\n",
    "valid_y_hat = []\n",
    "valid_y = []\n",
    "for (train_set, valid_set), scaler in ss_kfold_fn(data, True):\n",
    "    scalers.append(scaler)\n",
    "    model.fit(train_set[0], train_set[1].ravel())\n",
    "    valid_y.append(valid_set[1].squeeze())\n",
    "    valid_y_hat.append(model.predict_proba(valid_set[0]).squeeze())"
   ]
  },
  {
   "cell_type": "code",
   "execution_count": 4,
   "metadata": {},
   "outputs": [],
   "source": [
    "from sklearn.metrics import accuracy_score, recall_score, precision_score, f1_score, confusion_matrix, classification_report"
   ]
  },
  {
   "cell_type": "code",
   "execution_count": 17,
   "metadata": {},
   "outputs": [
    {
     "name": "stdout",
     "output_type": "stream",
     "text": [
      "              precision    recall  f1-score   support\n",
      "\n",
      "           0       0.00      0.00      0.00         2\n",
      "           1       0.00      0.00      0.00        11\n",
      "           2       0.53      0.67      0.59       137\n",
      "           3       0.45      0.42      0.43       127\n",
      "           4       0.36      0.20      0.26        40\n",
      "           5       0.00      0.00      0.00         3\n",
      "\n",
      "    accuracy                           0.48       320\n",
      "   macro avg       0.22      0.21      0.21       320\n",
      "weighted avg       0.45      0.48      0.46       320\n",
      "\n",
      "              precision    recall  f1-score   support\n",
      "\n",
      "           0       0.00      0.00      0.00         2\n",
      "           1       0.00      0.00      0.00        10\n",
      "           2       0.64      0.60      0.62       136\n",
      "           3       0.51      0.61      0.55       128\n",
      "           4       0.47      0.42      0.45        40\n",
      "           5       1.00      0.25      0.40         4\n",
      "\n",
      "    accuracy                           0.56       320\n",
      "   macro avg       0.44      0.31      0.34       320\n",
      "weighted avg       0.54      0.56      0.55       320\n",
      "\n",
      "              precision    recall  f1-score   support\n",
      "\n",
      "           0       0.00      0.00      0.00         2\n",
      "           1       0.67      0.20      0.31        10\n",
      "           2       0.68      0.74      0.71       136\n",
      "           3       0.56      0.58      0.57       128\n",
      "           4       0.56      0.55      0.56        40\n",
      "           5       1.00      0.25      0.40         4\n",
      "\n",
      "    accuracy                           0.62       320\n",
      "   macro avg       0.58      0.39      0.42       320\n",
      "weighted avg       0.62      0.62      0.61       320\n",
      "\n",
      "              precision    recall  f1-score   support\n",
      "\n",
      "           0       0.00      0.00      0.00         2\n",
      "           1       0.00      0.00      0.00        11\n",
      "           2       0.65      0.50      0.56       136\n",
      "           3       0.45      0.56      0.50       128\n",
      "           4       0.36      0.51      0.43        39\n",
      "           5       0.00      0.00      0.00         4\n",
      "\n",
      "    accuracy                           0.50       320\n",
      "   macro avg       0.24      0.26      0.25       320\n",
      "weighted avg       0.50      0.50      0.49       320\n",
      "\n",
      "              precision    recall  f1-score   support\n",
      "\n",
      "           0       0.00      0.00      0.00         2\n",
      "           1       0.25      0.09      0.13        11\n",
      "           2       0.64      0.48      0.55       136\n",
      "           3       0.48      0.68      0.56       127\n",
      "           4       0.39      0.30      0.34        40\n",
      "           5       0.00      0.00      0.00         3\n",
      "\n",
      "    accuracy                           0.51       319\n",
      "   macro avg       0.29      0.26      0.26       319\n",
      "weighted avg       0.52      0.51      0.50       319\n",
      "\n"
     ]
    }
   ],
   "source": [
    "for y_true, y_predict in zip(valid_y, valid_y_hat):\n",
    "    print(classification_report(y_true, y_predict.argmax(1)))"
   ]
  },
  {
   "cell_type": "code",
   "execution_count": 18,
   "metadata": {},
   "outputs": [
    {
     "name": "stdout",
     "output_type": "stream",
     "text": [
      "Fold: 0 precision: 0.4486 recall: 0.4781\n",
      "Fold: 1 precision: 0.5443 recall: 0.5563\n",
      "Fold: 2 precision: 0.6209 recall: 0.6219\n",
      "Fold: 3 precision: 0.5007 recall: 0.5000\n",
      "Fold: 4 precision: 0.5217 recall: 0.5141\n"
     ]
    },
    {
     "data": {
      "image/png": "[encoded data removed]",
      "text/plain": [
       "<Figure size 1584x288 with 5 Axes>"
      ]
     },
     "metadata": {
      "needs_background": "light"
     },
     "output_type": "display_data"
    }
   ],
   "source": [
    "from matplotlib import pyplot as plt\n",
    "import seaborn as sbn\n",
    "import warnings\n",
    "\n",
    "warnings.filterwarnings('ignore')\n",
    "\n",
    "fig, ax = plt.subplots(1,5,figsize = (22, 4))\n",
    "for n, (yt, yp) in enumerate(zip(valid_y, valid_y_hat)):\n",
    "    conf = confusion_matrix(yt, yp.argmax(1))\n",
    "    sbn.heatmap(conf, ax = ax[n], annot = conf, fmt='.4g', cbar = False)\n",
    "    ax[n].set_ylabel('Real')\n",
    "    ax[n].set_xlabel('Predict')\n",
    "    \n",
    "    P = precision_score(yt, yp.argmax(1), average='weighted')\n",
    "    R = recall_score(yt, yp.argmax(1), average='weighted')\n",
    "    print('Fold: {} precision: {:.4f} recall: {:.4f}'.format(n,P,R))\n",
    "    \n",
    "fig.tight_layout()"
   ]
  }
 ],
 "metadata": {
  "kernelspec": {
   "display_name": "Python 3.9.7 ('base')",
   "language": "python",
   "name": "python3"
  },
  "language_info": {
   "codemirror_mode": {
    "name": "ipython",
    "version": 3
   },
   "file_extension": ".py",
   "mimetype": "text/x-python",
   "name": "python",
   "nbconvert_exporter": "python",
   "pygments_lexer": "ipython3",
   "version": "3.9.7"
  },
  "orig_nbformat": 4,
  "vscode": {
   "interpreter": {
    "hash": "1ddd09a61b2c7e17c2a62d168de822f4c67e18302d8919811a53cdcb291e5f9a"
   }
  }
 },
 "nbformat": 4,
 "nbformat_minor": 2
}
