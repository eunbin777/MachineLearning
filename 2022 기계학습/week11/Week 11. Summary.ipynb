{
 "cells": [
  {
   "cell_type": "markdown",
   "id": "3ff74942",
   "metadata": {},
   "source": [
    "# 00. Machine Learning Procedure"
   ]
  },
  {
   "cell_type": "markdown",
   "id": "c28173b0",
   "metadata": {},
   "source": [
    "<img src = https://imgur.com/KDTBtG9.png width = 800>"
   ]
  },
  {
   "cell_type": "markdown",
   "id": "bad61fa0",
   "metadata": {},
   "source": [
    "# 01. Python - basic"
   ]
  },
  {
   "cell_type": "markdown",
   "id": "11801bc2",
   "metadata": {},
   "source": [
    "### 01-01. Container type dataset"
   ]
  },
  {
   "cell_type": "code",
   "execution_count": 1,
   "id": "fc349832",
   "metadata": {},
   "outputs": [],
   "source": [
    "String = 'ABCAET'\n",
    "Set = set(String)\n",
    "List = [0,1,2,3,4,5,'asdf',[81,128,292,[33]]]\n",
    "Tuple = tuple(List[-1])"
   ]
  },
  {
   "cell_type": "markdown",
   "id": "b3afcb46",
   "metadata": {},
   "source": [
    "### 01-02. Multiplication with container type dataset"
   ]
  },
  {
   "cell_type": "code",
   "execution_count": 2,
   "id": "d58d27a1",
   "metadata": {},
   "outputs": [
    {
     "name": "stdout",
     "output_type": "stream",
     "text": [
      "[0, 1, 2, 3, 4, 5, 'asdf', [81, 128, 292, [33]], 0, 1, 2, 3, 4, 5, 'asdf', [81, 128, 292, [33]]]\n",
      "ABCAETABCAETABCAET\n",
      "(81, 128, 292, [33], 81, 128, 292, [33], 81, 128, 292, [33], 81, 128, 292, [33])\n"
     ]
    }
   ],
   "source": [
    "# List, tuple, string type support to the multiplication operator\n",
    "\n",
    "print(List * 2)\n",
    "print(String * 3)\n",
    "print(Tuple * 4)"
   ]
  },
  {
   "cell_type": "markdown",
   "id": "add0c811",
   "metadata": {},
   "source": [
    "### 01-03. Remove the element from the container"
   ]
  },
  {
   "cell_type": "code",
   "execution_count": 3,
   "id": "1061b823",
   "metadata": {},
   "outputs": [
    {
     "name": "stdout",
     "output_type": "stream",
     "text": [
      "[0, 1, 2, 3, 4, 5, 'asdf']\n"
     ]
    }
   ],
   "source": [
    "# Remove the element in the container \n",
    "# The 'tuple' and 'set' cannot support to modify of the element since it use less memory than list type.\n",
    "\n",
    "copy_list = List.copy()\n",
    "del copy_list[-1]\n",
    "\n",
    "print(copy_list)\n",
    "\n",
    "copy_set = Set.copy()\n",
    "copy_set.remove('A')"
   ]
  },
  {
   "cell_type": "markdown",
   "id": "916a3f02",
   "metadata": {},
   "source": [
    "### 01-04. Dictionary class"
   ]
  },
  {
   "cell_type": "code",
   "execution_count": 4,
   "id": "9a755d4b",
   "metadata": {},
   "outputs": [
    {
     "name": "stdout",
     "output_type": "stream",
     "text": [
      "1 {'A': 1}\n",
      "2 {'A': 1, 'B': 2}\n",
      "3 {'A': 1, 'B': 2, 'C': 3}\n",
      "4 {'A': 4, 'B': 2, 'C': 3}\n",
      "5 {'A': 4, 'B': 2, 'C': 3, 'E': 5}\n",
      "6 {'A': 4, 'B': 2, 'C': 3, 'E': 5, 'T': 6}\n",
      "{'A': 4, 'B': 2, 'C': 3, 'E': 5, 'T': 6}\n",
      "{'A': 4, 'B': 2, 'C': 3, 'E': 5, 'T': 6}\n",
      "{'B': 2, 'C': 3, 'E': 5, 'T': 6}\n"
     ]
    }
   ],
   "source": [
    "# The for loop with container object type \"str\"\n",
    "Dict = dict()\n",
    "\n",
    "for n, s in enumerate(String, 1):\n",
    "    Dict[s] = n\n",
    "    print(n, Dict)\n",
    "    \n",
    "print(Dict)\n",
    "\n",
    "# The dictionary comprehension\n",
    "Dict = {s:n for n, s in enumerate(String, 1)}\n",
    "print(Dict)\n",
    "\n",
    "# Remove the elements of the dictionary\n",
    "del Dict['A']\n",
    "print(Dict)"
   ]
  },
  {
   "cell_type": "markdown",
   "id": "5d379b1f",
   "metadata": {},
   "source": [
    "### 01-05. Pandas"
   ]
  },
  {
   "cell_type": "code",
   "execution_count": 5,
   "id": "d8c70376",
   "metadata": {},
   "outputs": [],
   "source": [
    "import numpy as np\n",
    "import pandas as pds"
   ]
  },
  {
   "cell_type": "code",
   "execution_count": 6,
   "id": "cc0a16a8",
   "metadata": {},
   "outputs": [
    {
     "data": {
      "text/html": [
       "<div>\n",
       "<style scoped>\n",
       "    .dataframe tbody tr th:only-of-type {\n",
       "        vertical-align: middle;\n",
       "    }\n",
       "\n",
       "    .dataframe tbody tr th {\n",
       "        vertical-align: top;\n",
       "    }\n",
       "\n",
       "    .dataframe thead th {\n",
       "        text-align: right;\n",
       "    }\n",
       "</style>\n",
       "<table border=\"1\" class=\"dataframe\">\n",
       "  <thead>\n",
       "    <tr style=\"text-align: right;\">\n",
       "      <th></th>\n",
       "      <th>A</th>\n",
       "      <th>B</th>\n",
       "      <th>C</th>\n",
       "      <th>E</th>\n",
       "      <th>T</th>\n",
       "    </tr>\n",
       "  </thead>\n",
       "  <tbody>\n",
       "    <tr>\n",
       "      <th>0</th>\n",
       "      <td>5.548038</td>\n",
       "      <td>1.548063</td>\n",
       "      <td>2.136351</td>\n",
       "      <td>4.198242</td>\n",
       "      <td>6.479218</td>\n",
       "    </tr>\n",
       "    <tr>\n",
       "      <th>1</th>\n",
       "      <td>3.930856</td>\n",
       "      <td>2.785051</td>\n",
       "      <td>4.449774</td>\n",
       "      <td>4.216920</td>\n",
       "      <td>6.371360</td>\n",
       "    </tr>\n",
       "    <tr>\n",
       "      <th>2</th>\n",
       "      <td>2.807229</td>\n",
       "      <td>1.309538</td>\n",
       "      <td>2.485411</td>\n",
       "      <td>4.736766</td>\n",
       "      <td>5.615178</td>\n",
       "    </tr>\n",
       "    <tr>\n",
       "      <th>3</th>\n",
       "      <td>3.254332</td>\n",
       "      <td>1.678181</td>\n",
       "      <td>4.324660</td>\n",
       "      <td>5.070467</td>\n",
       "      <td>5.485348</td>\n",
       "    </tr>\n",
       "    <tr>\n",
       "      <th>4</th>\n",
       "      <td>4.045192</td>\n",
       "      <td>3.192510</td>\n",
       "      <td>3.992392</td>\n",
       "      <td>5.674390</td>\n",
       "      <td>5.731001</td>\n",
       "    </tr>\n",
       "    <tr>\n",
       "      <th>...</th>\n",
       "      <td>...</td>\n",
       "      <td>...</td>\n",
       "      <td>...</td>\n",
       "      <td>...</td>\n",
       "      <td>...</td>\n",
       "    </tr>\n",
       "    <tr>\n",
       "      <th>95</th>\n",
       "      <td>2.961233</td>\n",
       "      <td>0.706944</td>\n",
       "      <td>3.816571</td>\n",
       "      <td>5.526872</td>\n",
       "      <td>5.891730</td>\n",
       "    </tr>\n",
       "    <tr>\n",
       "      <th>96</th>\n",
       "      <td>4.524416</td>\n",
       "      <td>1.338406</td>\n",
       "      <td>3.971652</td>\n",
       "      <td>5.064459</td>\n",
       "      <td>6.865469</td>\n",
       "    </tr>\n",
       "    <tr>\n",
       "      <th>97</th>\n",
       "      <td>3.753263</td>\n",
       "      <td>1.974664</td>\n",
       "      <td>3.509664</td>\n",
       "      <td>3.883319</td>\n",
       "      <td>4.853337</td>\n",
       "    </tr>\n",
       "    <tr>\n",
       "      <th>98</th>\n",
       "      <td>3.271413</td>\n",
       "      <td>2.204438</td>\n",
       "      <td>4.255922</td>\n",
       "      <td>5.081413</td>\n",
       "      <td>5.562807</td>\n",
       "    </tr>\n",
       "    <tr>\n",
       "      <th>99</th>\n",
       "      <td>3.342209</td>\n",
       "      <td>3.641636</td>\n",
       "      <td>4.606601</td>\n",
       "      <td>6.087348</td>\n",
       "      <td>4.059997</td>\n",
       "    </tr>\n",
       "  </tbody>\n",
       "</table>\n",
       "<p>100 rows × 5 columns</p>\n",
       "</div>"
      ],
      "text/plain": [
       "           A         B         C         E         T\n",
       "0   5.548038  1.548063  2.136351  4.198242  6.479218\n",
       "1   3.930856  2.785051  4.449774  4.216920  6.371360\n",
       "2   2.807229  1.309538  2.485411  4.736766  5.615178\n",
       "3   3.254332  1.678181  4.324660  5.070467  5.485348\n",
       "4   4.045192  3.192510  3.992392  5.674390  5.731001\n",
       "..       ...       ...       ...       ...       ...\n",
       "95  2.961233  0.706944  3.816571  5.526872  5.891730\n",
       "96  4.524416  1.338406  3.971652  5.064459  6.865469\n",
       "97  3.753263  1.974664  3.509664  3.883319  4.853337\n",
       "98  3.271413  2.204438  4.255922  5.081413  5.562807\n",
       "99  3.342209  3.641636  4.606601  6.087348  4.059997\n",
       "\n",
       "[100 rows x 5 columns]"
      ]
     },
     "execution_count": 6,
     "metadata": {},
     "output_type": "execute_result"
    }
   ],
   "source": [
    "Dict = {s : np.array([n] * 100) + np.random.normal(size = (100)) for n, s in enumerate(String, 1)}\n",
    "\n",
    "df = pds.DataFrame.from_dict(Dict)\n",
    "\n",
    "df"
   ]
  },
  {
   "cell_type": "code",
   "execution_count": 7,
   "id": "97b3d933",
   "metadata": {},
   "outputs": [
    {
     "data": {
      "text/plain": [
       "(A    5.548038\n",
       " B    1.548063\n",
       " C    2.136351\n",
       " E    4.198242\n",
       " T    6.479218\n",
       " Name: 0, dtype: float64,\n",
       " 0     5.548038\n",
       " 1     3.930856\n",
       " 2     2.807229\n",
       " 3     3.254332\n",
       " 4     4.045192\n",
       "         ...   \n",
       " 95    2.961233\n",
       " 96    4.524416\n",
       " 97    3.753263\n",
       " 98    3.271413\n",
       " 99    3.342209\n",
       " Name: A, Length: 100, dtype: float64)"
      ]
     },
     "execution_count": 7,
     "metadata": {},
     "output_type": "execute_result"
    }
   ],
   "source": [
    "# Dataframe.loc \n",
    "df.loc[0],df.loc[:,'A']"
   ]
  },
  {
   "cell_type": "code",
   "execution_count": 8,
   "id": "786ab5c9",
   "metadata": {},
   "outputs": [
    {
     "data": {
      "text/plain": [
       "(           A         B         C         E         T\n",
       " 90  4.606529  1.916060  3.573326  4.245232  5.627297\n",
       " 91  2.519694  2.041921  0.796619  4.654844  6.147411\n",
       " 92  4.250439  4.983942  2.289460  5.386699  4.453161\n",
       " 93  5.086164  1.991318  3.434270  4.374570  6.594858\n",
       " 94  4.606479  2.532995  2.986470  6.271566  6.175253\n",
       " 95  2.961233  0.706944  3.816571  5.526872  5.891730\n",
       " 96  4.524416  1.338406  3.971652  5.064459  6.865469\n",
       " 97  3.753263  1.974664  3.509664  3.883319  4.853337\n",
       " 98  3.271413  2.204438  4.255922  5.081413  5.562807\n",
       " 99  3.342209  3.641636  4.606601  6.087348  4.059997,\n",
       "            E         T\n",
       " 0   4.198242  6.479218\n",
       " 1   4.216920  6.371360\n",
       " 2   4.736766  5.615178\n",
       " 3   5.070467  5.485348\n",
       " 4   5.674390  5.731001\n",
       " ..       ...       ...\n",
       " 95  5.526872  5.891730\n",
       " 96  5.064459  6.865469\n",
       " 97  3.883319  4.853337\n",
       " 98  5.081413  5.562807\n",
       " 99  6.087348  4.059997\n",
       " \n",
       " [100 rows x 2 columns])"
      ]
     },
     "execution_count": 8,
     "metadata": {},
     "output_type": "execute_result"
    }
   ],
   "source": [
    "# Dataframe.loc \n",
    "df.iloc[-10:],df.iloc[:,3:]"
   ]
  },
  {
   "cell_type": "markdown",
   "id": "74657590",
   "metadata": {},
   "source": [
    "### 01-05-a. Pandas input & remove elements"
   ]
  },
  {
   "cell_type": "code",
   "execution_count": 9,
   "id": "43f4c5f6",
   "metadata": {},
   "outputs": [
    {
     "data": {
      "text/html": [
       "<div>\n",
       "<style scoped>\n",
       "    .dataframe tbody tr th:only-of-type {\n",
       "        vertical-align: middle;\n",
       "    }\n",
       "\n",
       "    .dataframe tbody tr th {\n",
       "        vertical-align: top;\n",
       "    }\n",
       "\n",
       "    .dataframe thead th {\n",
       "        text-align: right;\n",
       "    }\n",
       "</style>\n",
       "<table border=\"1\" class=\"dataframe\">\n",
       "  <thead>\n",
       "    <tr style=\"text-align: right;\">\n",
       "      <th></th>\n",
       "      <th>A</th>\n",
       "      <th>B</th>\n",
       "      <th>C</th>\n",
       "      <th>E</th>\n",
       "      <th>T</th>\n",
       "    </tr>\n",
       "  </thead>\n",
       "  <tbody>\n",
       "    <tr>\n",
       "      <th>97</th>\n",
       "      <td>3.753263</td>\n",
       "      <td>1.974664</td>\n",
       "      <td>3.509664</td>\n",
       "      <td>3.883319</td>\n",
       "      <td>4.853337</td>\n",
       "    </tr>\n",
       "    <tr>\n",
       "      <th>98</th>\n",
       "      <td>3.271413</td>\n",
       "      <td>2.204438</td>\n",
       "      <td>4.255922</td>\n",
       "      <td>5.081413</td>\n",
       "      <td>5.562807</td>\n",
       "    </tr>\n",
       "    <tr>\n",
       "      <th>99</th>\n",
       "      <td>3.342209</td>\n",
       "      <td>3.641636</td>\n",
       "      <td>4.606601</td>\n",
       "      <td>6.087348</td>\n",
       "      <td>4.059997</td>\n",
       "    </tr>\n",
       "    <tr>\n",
       "      <th>c</th>\n",
       "      <td>0.053990</td>\n",
       "      <td>0.714812</td>\n",
       "      <td>0.421456</td>\n",
       "      <td>0.847053</td>\n",
       "      <td>0.145592</td>\n",
       "    </tr>\n",
       "  </tbody>\n",
       "</table>\n",
       "</div>"
      ],
      "text/plain": [
       "           A         B         C         E         T\n",
       "97  3.753263  1.974664  3.509664  3.883319  4.853337\n",
       "98  3.271413  2.204438  4.255922  5.081413  5.562807\n",
       "99  3.342209  3.641636  4.606601  6.087348  4.059997\n",
       "c   0.053990  0.714812  0.421456  0.847053  0.145592"
      ]
     },
     "execution_count": 9,
     "metadata": {},
     "output_type": "execute_result"
    }
   ],
   "source": [
    "df.loc['c'] = np.random.uniform(size = (5))\n",
    "\n",
    "df.loc[97:'c']"
   ]
  },
  {
   "cell_type": "code",
   "execution_count": 10,
   "id": "8b45e49c",
   "metadata": {},
   "outputs": [
    {
     "data": {
      "text/html": [
       "<div>\n",
       "<style scoped>\n",
       "    .dataframe tbody tr th:only-of-type {\n",
       "        vertical-align: middle;\n",
       "    }\n",
       "\n",
       "    .dataframe tbody tr th {\n",
       "        vertical-align: top;\n",
       "    }\n",
       "\n",
       "    .dataframe thead th {\n",
       "        text-align: right;\n",
       "    }\n",
       "</style>\n",
       "<table border=\"1\" class=\"dataframe\">\n",
       "  <thead>\n",
       "    <tr style=\"text-align: right;\">\n",
       "      <th></th>\n",
       "      <th>B</th>\n",
       "      <th>C</th>\n",
       "      <th>E</th>\n",
       "      <th>T</th>\n",
       "    </tr>\n",
       "  </thead>\n",
       "  <tbody>\n",
       "    <tr>\n",
       "      <th>97</th>\n",
       "      <td>1.974664</td>\n",
       "      <td>3.509664</td>\n",
       "      <td>3.883319</td>\n",
       "      <td>4.853337</td>\n",
       "    </tr>\n",
       "    <tr>\n",
       "      <th>98</th>\n",
       "      <td>2.204438</td>\n",
       "      <td>4.255922</td>\n",
       "      <td>5.081413</td>\n",
       "      <td>5.562807</td>\n",
       "    </tr>\n",
       "    <tr>\n",
       "      <th>99</th>\n",
       "      <td>3.641636</td>\n",
       "      <td>4.606601</td>\n",
       "      <td>6.087348</td>\n",
       "      <td>4.059997</td>\n",
       "    </tr>\n",
       "    <tr>\n",
       "      <th>c</th>\n",
       "      <td>0.714812</td>\n",
       "      <td>0.421456</td>\n",
       "      <td>0.847053</td>\n",
       "      <td>0.145592</td>\n",
       "    </tr>\n",
       "  </tbody>\n",
       "</table>\n",
       "</div>"
      ],
      "text/plain": [
       "           B         C         E         T\n",
       "97  1.974664  3.509664  3.883319  4.853337\n",
       "98  2.204438  4.255922  5.081413  5.562807\n",
       "99  3.641636  4.606601  6.087348  4.059997\n",
       "c   0.714812  0.421456  0.847053  0.145592"
      ]
     },
     "execution_count": 10,
     "metadata": {},
     "output_type": "execute_result"
    }
   ],
   "source": [
    "del df['A']\n",
    "\n",
    "df.loc[97:'c']"
   ]
  },
  {
   "cell_type": "code",
   "execution_count": 11,
   "id": "6c9a2768",
   "metadata": {},
   "outputs": [
    {
     "data": {
      "text/html": [
       "<div>\n",
       "<style scoped>\n",
       "    .dataframe tbody tr th:only-of-type {\n",
       "        vertical-align: middle;\n",
       "    }\n",
       "\n",
       "    .dataframe tbody tr th {\n",
       "        vertical-align: top;\n",
       "    }\n",
       "\n",
       "    .dataframe thead th {\n",
       "        text-align: right;\n",
       "    }\n",
       "</style>\n",
       "<table border=\"1\" class=\"dataframe\">\n",
       "  <thead>\n",
       "    <tr style=\"text-align: right;\">\n",
       "      <th></th>\n",
       "      <th>B</th>\n",
       "      <th>C</th>\n",
       "      <th>T</th>\n",
       "    </tr>\n",
       "  </thead>\n",
       "  <tbody>\n",
       "    <tr>\n",
       "      <th>0</th>\n",
       "      <td>1.548063</td>\n",
       "      <td>2.136351</td>\n",
       "      <td>6.479218</td>\n",
       "    </tr>\n",
       "    <tr>\n",
       "      <th>1</th>\n",
       "      <td>2.785051</td>\n",
       "      <td>4.449774</td>\n",
       "      <td>6.371360</td>\n",
       "    </tr>\n",
       "    <tr>\n",
       "      <th>2</th>\n",
       "      <td>1.309538</td>\n",
       "      <td>2.485411</td>\n",
       "      <td>5.615178</td>\n",
       "    </tr>\n",
       "    <tr>\n",
       "      <th>3</th>\n",
       "      <td>1.678181</td>\n",
       "      <td>4.324660</td>\n",
       "      <td>5.485348</td>\n",
       "    </tr>\n",
       "    <tr>\n",
       "      <th>4</th>\n",
       "      <td>3.192510</td>\n",
       "      <td>3.992392</td>\n",
       "      <td>5.731001</td>\n",
       "    </tr>\n",
       "    <tr>\n",
       "      <th>...</th>\n",
       "      <td>...</td>\n",
       "      <td>...</td>\n",
       "      <td>...</td>\n",
       "    </tr>\n",
       "    <tr>\n",
       "      <th>95</th>\n",
       "      <td>0.706944</td>\n",
       "      <td>3.816571</td>\n",
       "      <td>5.891730</td>\n",
       "    </tr>\n",
       "    <tr>\n",
       "      <th>96</th>\n",
       "      <td>1.338406</td>\n",
       "      <td>3.971652</td>\n",
       "      <td>6.865469</td>\n",
       "    </tr>\n",
       "    <tr>\n",
       "      <th>97</th>\n",
       "      <td>1.974664</td>\n",
       "      <td>3.509664</td>\n",
       "      <td>4.853337</td>\n",
       "    </tr>\n",
       "    <tr>\n",
       "      <th>99</th>\n",
       "      <td>3.641636</td>\n",
       "      <td>4.606601</td>\n",
       "      <td>4.059997</td>\n",
       "    </tr>\n",
       "    <tr>\n",
       "      <th>c</th>\n",
       "      <td>0.714812</td>\n",
       "      <td>0.421456</td>\n",
       "      <td>0.145592</td>\n",
       "    </tr>\n",
       "  </tbody>\n",
       "</table>\n",
       "<p>100 rows × 3 columns</p>\n",
       "</div>"
      ],
      "text/plain": [
       "           B         C         T\n",
       "0   1.548063  2.136351  6.479218\n",
       "1   2.785051  4.449774  6.371360\n",
       "2   1.309538  2.485411  5.615178\n",
       "3   1.678181  4.324660  5.485348\n",
       "4   3.192510  3.992392  5.731001\n",
       "..       ...       ...       ...\n",
       "95  0.706944  3.816571  5.891730\n",
       "96  1.338406  3.971652  6.865469\n",
       "97  1.974664  3.509664  4.853337\n",
       "99  3.641636  4.606601  4.059997\n",
       "c   0.714812  0.421456  0.145592\n",
       "\n",
       "[100 rows x 3 columns]"
      ]
     },
     "execution_count": 11,
     "metadata": {},
     "output_type": "execute_result"
    }
   ],
   "source": [
    "df = df.drop(index = 98) # if u want to drop one of columns, change from index to column\n",
    "df.drop('E', axis = 1) "
   ]
  },
  {
   "cell_type": "markdown",
   "id": "7ec08278",
   "metadata": {},
   "source": [
    "### 01-05-b. Pandas operation"
   ]
  },
  {
   "cell_type": "code",
   "execution_count": 12,
   "id": "55abd1b6",
   "metadata": {},
   "outputs": [],
   "source": [
    "from IPython.display import display"
   ]
  },
  {
   "cell_type": "code",
   "execution_count": 13,
   "id": "ab0ae6d2",
   "metadata": {},
   "outputs": [
    {
     "name": "stdout",
     "output_type": "stream",
     "text": [
      "\n",
      "Add operation\n"
     ]
    },
    {
     "data": {
      "text/html": [
       "<div>\n",
       "<style scoped>\n",
       "    .dataframe tbody tr th:only-of-type {\n",
       "        vertical-align: middle;\n",
       "    }\n",
       "\n",
       "    .dataframe tbody tr th {\n",
       "        vertical-align: top;\n",
       "    }\n",
       "\n",
       "    .dataframe thead th {\n",
       "        text-align: right;\n",
       "    }\n",
       "</style>\n",
       "<table border=\"1\" class=\"dataframe\">\n",
       "  <thead>\n",
       "    <tr style=\"text-align: right;\">\n",
       "      <th></th>\n",
       "      <th>B</th>\n",
       "      <th>C</th>\n",
       "      <th>E</th>\n",
       "      <th>T</th>\n",
       "    </tr>\n",
       "  </thead>\n",
       "  <tbody>\n",
       "    <tr>\n",
       "      <th>0</th>\n",
       "      <td>4.548063</td>\n",
       "      <td>5.136351</td>\n",
       "      <td>7.198242</td>\n",
       "      <td>9.479218</td>\n",
       "    </tr>\n",
       "    <tr>\n",
       "      <th>1</th>\n",
       "      <td>5.785051</td>\n",
       "      <td>7.449774</td>\n",
       "      <td>7.216920</td>\n",
       "      <td>9.371360</td>\n",
       "    </tr>\n",
       "    <tr>\n",
       "      <th>2</th>\n",
       "      <td>4.309538</td>\n",
       "      <td>5.485411</td>\n",
       "      <td>7.736766</td>\n",
       "      <td>8.615178</td>\n",
       "    </tr>\n",
       "    <tr>\n",
       "      <th>3</th>\n",
       "      <td>4.678181</td>\n",
       "      <td>7.324660</td>\n",
       "      <td>8.070467</td>\n",
       "      <td>8.485348</td>\n",
       "    </tr>\n",
       "    <tr>\n",
       "      <th>4</th>\n",
       "      <td>6.192510</td>\n",
       "      <td>6.992392</td>\n",
       "      <td>8.674390</td>\n",
       "      <td>8.731001</td>\n",
       "    </tr>\n",
       "  </tbody>\n",
       "</table>\n",
       "</div>"
      ],
      "text/plain": [
       "          B         C         E         T\n",
       "0  4.548063  5.136351  7.198242  9.479218\n",
       "1  5.785051  7.449774  7.216920  9.371360\n",
       "2  4.309538  5.485411  7.736766  8.615178\n",
       "3  4.678181  7.324660  8.070467  8.485348\n",
       "4  6.192510  6.992392  8.674390  8.731001"
      ]
     },
     "metadata": {},
     "output_type": "display_data"
    },
    {
     "name": "stdout",
     "output_type": "stream",
     "text": [
      "\n",
      "Subtract operation\n"
     ]
    },
    {
     "data": {
      "text/html": [
       "<div>\n",
       "<style scoped>\n",
       "    .dataframe tbody tr th:only-of-type {\n",
       "        vertical-align: middle;\n",
       "    }\n",
       "\n",
       "    .dataframe tbody tr th {\n",
       "        vertical-align: top;\n",
       "    }\n",
       "\n",
       "    .dataframe thead th {\n",
       "        text-align: right;\n",
       "    }\n",
       "</style>\n",
       "<table border=\"1\" class=\"dataframe\">\n",
       "  <thead>\n",
       "    <tr style=\"text-align: right;\">\n",
       "      <th></th>\n",
       "      <th>B</th>\n",
       "      <th>C</th>\n",
       "      <th>E</th>\n",
       "      <th>T</th>\n",
       "    </tr>\n",
       "  </thead>\n",
       "  <tbody>\n",
       "    <tr>\n",
       "      <th>0</th>\n",
       "      <td>1.548063</td>\n",
       "      <td>1.136351</td>\n",
       "      <td>2.198242</td>\n",
       "      <td>3.479218</td>\n",
       "    </tr>\n",
       "    <tr>\n",
       "      <th>1</th>\n",
       "      <td>2.785051</td>\n",
       "      <td>3.449774</td>\n",
       "      <td>2.216920</td>\n",
       "      <td>3.371360</td>\n",
       "    </tr>\n",
       "    <tr>\n",
       "      <th>2</th>\n",
       "      <td>1.309538</td>\n",
       "      <td>1.485411</td>\n",
       "      <td>2.736766</td>\n",
       "      <td>2.615178</td>\n",
       "    </tr>\n",
       "    <tr>\n",
       "      <th>3</th>\n",
       "      <td>1.678181</td>\n",
       "      <td>3.324660</td>\n",
       "      <td>3.070467</td>\n",
       "      <td>2.485348</td>\n",
       "    </tr>\n",
       "    <tr>\n",
       "      <th>4</th>\n",
       "      <td>3.192510</td>\n",
       "      <td>2.992392</td>\n",
       "      <td>3.674390</td>\n",
       "      <td>2.731001</td>\n",
       "    </tr>\n",
       "  </tbody>\n",
       "</table>\n",
       "</div>"
      ],
      "text/plain": [
       "          B         C         E         T\n",
       "0  1.548063  1.136351  2.198242  3.479218\n",
       "1  2.785051  3.449774  2.216920  3.371360\n",
       "2  1.309538  1.485411  2.736766  2.615178\n",
       "3  1.678181  3.324660  3.070467  2.485348\n",
       "4  3.192510  2.992392  3.674390  2.731001"
      ]
     },
     "metadata": {},
     "output_type": "display_data"
    },
    {
     "name": "stdout",
     "output_type": "stream",
     "text": [
      "\n",
      "Multiplication operation\n"
     ]
    },
    {
     "data": {
      "text/html": [
       "<div>\n",
       "<style scoped>\n",
       "    .dataframe tbody tr th:only-of-type {\n",
       "        vertical-align: middle;\n",
       "    }\n",
       "\n",
       "    .dataframe tbody tr th {\n",
       "        vertical-align: top;\n",
       "    }\n",
       "\n",
       "    .dataframe thead th {\n",
       "        text-align: right;\n",
       "    }\n",
       "</style>\n",
       "<table border=\"1\" class=\"dataframe\">\n",
       "  <thead>\n",
       "    <tr style=\"text-align: right;\">\n",
       "      <th></th>\n",
       "      <th>B</th>\n",
       "      <th>C</th>\n",
       "      <th>E</th>\n",
       "      <th>T</th>\n",
       "    </tr>\n",
       "  </thead>\n",
       "  <tbody>\n",
       "    <tr>\n",
       "      <th>95</th>\n",
       "      <td>1.064048</td>\n",
       "      <td>-8.002612</td>\n",
       "      <td>6.553899</td>\n",
       "      <td>8.020701</td>\n",
       "    </tr>\n",
       "    <tr>\n",
       "      <th>96</th>\n",
       "      <td>2.014483</td>\n",
       "      <td>-8.327787</td>\n",
       "      <td>6.005559</td>\n",
       "      <td>9.346300</td>\n",
       "    </tr>\n",
       "    <tr>\n",
       "      <th>97</th>\n",
       "      <td>2.972140</td>\n",
       "      <td>-7.359089</td>\n",
       "      <td>4.604933</td>\n",
       "      <td>6.607086</td>\n",
       "    </tr>\n",
       "    <tr>\n",
       "      <th>99</th>\n",
       "      <td>5.481160</td>\n",
       "      <td>-9.659154</td>\n",
       "      <td>7.218525</td>\n",
       "      <td>5.527074</td>\n",
       "    </tr>\n",
       "    <tr>\n",
       "      <th>c</th>\n",
       "      <td>1.075890</td>\n",
       "      <td>-0.883711</td>\n",
       "      <td>1.004456</td>\n",
       "      <td>0.198202</td>\n",
       "    </tr>\n",
       "  </tbody>\n",
       "</table>\n",
       "</div>"
      ],
      "text/plain": [
       "           B         C         E         T\n",
       "95  1.064048 -8.002612  6.553899  8.020701\n",
       "96  2.014483 -8.327787  6.005559  9.346300\n",
       "97  2.972140 -7.359089  4.604933  6.607086\n",
       "99  5.481160 -9.659154  7.218525  5.527074\n",
       "c   1.075890 -0.883711  1.004456  0.198202"
      ]
     },
     "metadata": {},
     "output_type": "display_data"
    },
    {
     "name": "stdout",
     "output_type": "stream",
     "text": [
      "\n",
      "Devide operation\n"
     ]
    },
    {
     "data": {
      "text/html": [
       "<div>\n",
       "<style scoped>\n",
       "    .dataframe tbody tr th:only-of-type {\n",
       "        vertical-align: middle;\n",
       "    }\n",
       "\n",
       "    .dataframe tbody tr th {\n",
       "        vertical-align: top;\n",
       "    }\n",
       "\n",
       "    .dataframe thead th {\n",
       "        text-align: right;\n",
       "    }\n",
       "</style>\n",
       "<table border=\"1\" class=\"dataframe\">\n",
       "  <thead>\n",
       "    <tr style=\"text-align: right;\">\n",
       "      <th></th>\n",
       "      <th>B</th>\n",
       "      <th>C</th>\n",
       "      <th>E</th>\n",
       "      <th>T</th>\n",
       "    </tr>\n",
       "  </thead>\n",
       "  <tbody>\n",
       "    <tr>\n",
       "      <th>95</th>\n",
       "      <td>0.267348</td>\n",
       "      <td>1.443328</td>\n",
       "      <td>2.090120</td>\n",
       "      <td>2.228099</td>\n",
       "    </tr>\n",
       "    <tr>\n",
       "      <th>96</th>\n",
       "      <td>0.564367</td>\n",
       "      <td>1.674731</td>\n",
       "      <td>2.135536</td>\n",
       "      <td>2.894970</td>\n",
       "    </tr>\n",
       "    <tr>\n",
       "      <th>97</th>\n",
       "      <td>0.939639</td>\n",
       "      <td>1.670064</td>\n",
       "      <td>1.847866</td>\n",
       "      <td>2.309447</td>\n",
       "    </tr>\n",
       "    <tr>\n",
       "      <th>99</th>\n",
       "      <td>1.782597</td>\n",
       "      <td>2.254952</td>\n",
       "      <td>2.979784</td>\n",
       "      <td>1.987387</td>\n",
       "    </tr>\n",
       "    <tr>\n",
       "      <th>c</th>\n",
       "      <td>0.306600</td>\n",
       "      <td>0.180773</td>\n",
       "      <td>0.363322</td>\n",
       "      <td>0.062448</td>\n",
       "    </tr>\n",
       "  </tbody>\n",
       "</table>\n",
       "</div>"
      ],
      "text/plain": [
       "           B         C         E         T\n",
       "95  0.267348  1.443328  2.090120  2.228099\n",
       "96  0.564367  1.674731  2.135536  2.894970\n",
       "97  0.939639  1.670064  1.847866  2.309447\n",
       "99  1.782597  2.254952  2.979784  1.987387\n",
       "c   0.306600  0.180773  0.363322  0.062448"
      ]
     },
     "metadata": {},
     "output_type": "display_data"
    }
   ],
   "source": [
    "# add operation\n",
    "print('\\nAdd operation')\n",
    "display((df + 3).head())\n",
    "\n",
    "# subtract operation\n",
    "print('\\nSubtract operation')\n",
    "display((df - range(4)).head())\n",
    "\n",
    "# multiplication operation\n",
    "# With the gaussian noise has shape (4), each column share the multipling value.\n",
    "print('\\nMultiplication operation')\n",
    "display((df * np.random.normal(size = (df.shape[1]))).tail())\n",
    "\n",
    "# divide operation\n",
    "# With the uniform noise has same shape of dataframes index lengthes, each index share the multipling value\n",
    "print('\\nDevide operation')\n",
    "display((df / np.random.uniform(2,3,size = (df.shape[0],1))).tail())"
   ]
  },
  {
   "cell_type": "markdown",
   "id": "3d0cbff3",
   "metadata": {},
   "source": [
    "# 02. Load data & Preprocessing"
   ]
  },
  {
   "cell_type": "markdown",
   "id": "75408c1d",
   "metadata": {},
   "source": [
    "### 02-01. Load data"
   ]
  },
  {
   "cell_type": "code",
   "execution_count": 14,
   "id": "c9c2ae75",
   "metadata": {},
   "outputs": [
    {
     "name": "stdout",
     "output_type": "stream",
     "text": [
      "(4424, 37)\n"
     ]
    },
    {
     "data": {
      "text/plain": [
       "Graduate    2209\n",
       "Dropout     1421\n",
       "Enrolled     794\n",
       "Name: Target, dtype: int64"
      ]
     },
     "execution_count": 14,
     "metadata": {},
     "output_type": "execute_result"
    }
   ],
   "source": [
    "from sklearn.metrics import confusion_matrix\n",
    "\n",
    "import os\n",
    "from collections import Counter\n",
    "import random\n",
    "\n",
    "from tqdm import tqdm\n",
    "\n",
    "import pandas as pds\n",
    "import numpy as np\n",
    "\n",
    "from matplotlib import pyplot as plt\n",
    "import seaborn as sbn\n",
    "\n",
    "df = pds.read_csv(os.path.join('../files/Week 10. data-student.csv')\n",
    "                  , delimiter=';'\n",
    "                 )\n",
    "print(df.shape)\n",
    "Y = df['Target']\n",
    "X = df.drop(columns = ['Target'], axis = 1)\n",
    "\n",
    "Y.value_counts()"
   ]
  },
  {
   "cell_type": "code",
   "execution_count": 15,
   "id": "5db9a2d3",
   "metadata": {},
   "outputs": [],
   "source": [
    "Y = Y.apply(lambda x: 0 if x == 'Graduate' else (1 if x == 'Enrolled' else 2 )).values"
   ]
  },
  {
   "cell_type": "markdown",
   "id": "4557824a",
   "metadata": {},
   "source": [
    "### 02-02. Preprocessing"
   ]
  },
  {
   "cell_type": "code",
   "execution_count": 16,
   "id": "50587b97",
   "metadata": {},
   "outputs": [],
   "source": [
    "from sklearn.tree import DecisionTreeClassifier as DTC\n",
    "from sklearn.neighbors import KNeighborsClassifier as KNC\n",
    "from sklearn.linear_model import LogisticRegression as LR\n",
    "\n",
    "from itertools import product\n",
    "from collections import Counter\n",
    "\n",
    "from sklearn.preprocessing import StandardScaler\n",
    "from sklearn.model_selection import StratifiedKFold"
   ]
  },
  {
   "cell_type": "code",
   "execution_count": 17,
   "id": "1a952a18",
   "metadata": {},
   "outputs": [],
   "source": [
    "remove_columns = []\n",
    "categorical_columns = []\n",
    "numerical_columns = []\n",
    "\n",
    "# 열별로 데이터 탐색 진행 = column을 순차대로 탐색하는 것과 같음\n",
    "for c, t in X.iteritems():\n",
    "    \n",
    "    # 데이터가 만약 수치형이 아니라면 categorical에 대해 고민해 볼 필요 있음\n",
    "    if t.dtype != np.float64:\n",
    "        \n",
    "        # 데이터에 존재하는 고윳값 갯수 계산\n",
    "        n_unique = len(t.unique())\n",
    "        \n",
    "        # 고윳값이 단 하나라면 필요 없는 데이터일수 있음\n",
    "        if n_unique == 1:\n",
    "            remove_columns.append(c)\n",
    "            \n",
    "        # 아니라면 categorical preprocessing 적용\n",
    "        else:\n",
    "            categorical_columns.append(c)\n",
    "            \n",
    "    # 수치형이라면, 수치형에 대한 preprocessing 적용 \n",
    "    else:\n",
    "        numerical_columns.append(c)"
   ]
  },
  {
   "cell_type": "code",
   "execution_count": 18,
   "id": "eda6cc8f",
   "metadata": {},
   "outputs": [],
   "source": [
    "# categorical transform            \n",
    "def cat_transform(df, cs):\n",
    "    return_list = []\n",
    "    numeric_columns = []\n",
    "    \n",
    "    for c in cs:\n",
    "        # categorical column list 'cs' 중 하나인 \"c\"에 존재하는 고윳 값들 전부에 대응되는 숫자 생성\n",
    "        unique_values = {i : n for n,i in enumerate(sorted(df[c].unique()))}\n",
    "        \n",
    "        # lambda를 활용하여 dataframe의 c column에 존재하는 각 값들을 숫자로 변환\n",
    "        num_df = df[c].apply(lambda x: unique_values[x])\n",
    "        \n",
    "        # 만약 고윳값이 2개인 경우, 1열로 표현 가능 ( e.g. 0 - 1 or -1 - 1 )\n",
    "        if len(unique_values) == 2:\n",
    "            return_list.append(num_df.values.reshape(-1,1))\n",
    "        \n",
    "        # 만약 고윳값이 3개 이상인 경우, 고윳값 갯수만큼의 열을 활용한 one-hot encoding을 수행해야 함.\n",
    "        # 단 너무 많은 고윳값의 경우 discrete numerical variables일 수 있기 때문에, one-hot encoding에서 제외함\n",
    "        elif len(unique_values) < 10:\n",
    "            return_list.append(np.eye(len(unique_values))[num_df])\n",
    "\n",
    "        # 제외한 column들을 return하여 numerical preprocessing을 적용\n",
    "        else:\n",
    "            numeric_columns.append(c)\n",
    "    return np.concatenate(return_list, 1), numeric_columns\n",
    "\n",
    "\n",
    "def num_transform(df, cs):\n",
    "    num_df = df[cs].copy().values\n",
    "    \n",
    "    #열별 평균으로 빼고 분산을 1로 변환하는 Standard scaling (a.k.a z-scaling)\n",
    "    num_df = (df[cs].values - num_df.mean(0)) / (num_df.std(0) + 1e-10)\n",
    "    return num_df"
   ]
  },
  {
   "cell_type": "code",
   "execution_count": 19,
   "id": "990ca8b2",
   "metadata": {},
   "outputs": [],
   "source": [
    "cat_arr, add_numerical_columns = cat_transform(df, categorical_columns)\n",
    "# print(add_numerical_columns)\n",
    "num_arr = num_transform(df, numerical_columns + add_numerical_columns)\n",
    "\n",
    "df_arr = np.concatenate([num_arr, cat_arr], 1)"
   ]
  },
  {
   "cell_type": "code",
   "execution_count": 20,
   "id": "d2641dd2",
   "metadata": {},
   "outputs": [
    {
     "data": {
      "text/plain": [
       "array([[-0.80484126,  0.02222877, -2.19710239, ...,  1.        ,\n",
       "         0.        ,  0.        ],\n",
       "       [ 2.07681932,  1.07192614,  0.6935986 , ...,  1.        ,\n",
       "         0.        ,  0.        ],\n",
       "       [-0.80484126, -0.15041883, -2.19710239, ...,  1.        ,\n",
       "         0.        ,  0.        ],\n",
       "       ...,\n",
       "       [ 1.62182028,  1.5553394 ,  0.88201036, ...,  0.        ,\n",
       "         1.        ,  0.        ],\n",
       "       [ 3.59348278,  1.85229326,  0.65230287, ...,  0.        ,\n",
       "         1.        ,  0.        ],\n",
       "       [ 1.47015393,  1.727987  ,  0.2118151 , ...,  0.        ,\n",
       "         0.        ,  1.        ]])"
      ]
     },
     "execution_count": 20,
     "metadata": {},
     "output_type": "execute_result"
    }
   ],
   "source": [
    "df_arr"
   ]
  },
  {
   "cell_type": "markdown",
   "id": "8070a499",
   "metadata": {},
   "source": [
    "# 03. Cross validation"
   ]
  },
  {
   "cell_type": "markdown",
   "id": "9dbf01c1",
   "metadata": {},
   "source": [
    "## 03-01. K-fold validation"
   ]
  },
  {
   "cell_type": "code",
   "execution_count": 21,
   "id": "178a78ad",
   "metadata": {},
   "outputs": [],
   "source": [
    "# Argument data_x, data_y는 numpy.array\n",
    "\n",
    "def ss_kfold_fn(data_x, data_y, scaling = True):\n",
    "    kf = StratifiedKFold()\n",
    "    for n, (train_idx, valid_idx) in enumerate(kf.split(data_x, data_y)):\n",
    "        \n",
    "        scaler_x = StandardScaler()\n",
    "        \n",
    "        if scaling:\n",
    "            \n",
    "            train_x = scaler_x.fit_transform(data_x[train_idx])\n",
    "            valid_x = scaler_x.transform(data_x[valid_idx])\n",
    "            \n",
    "        else:\n",
    "            # numpy.array indexing\n",
    "            train_x = data_x[train_idx]\n",
    "            valid_x = data_x[valid_idx]\n",
    "\n",
    "        \n",
    "        train_y = data_y[train_idx]\n",
    "        valid_y = data_y[valid_idx]\n",
    "        \n",
    "        # \"yield\"는 iterative type object를 반복문 순서에 따라 return 하는 기능을 지원함.\n",
    "        yield [\n",
    "            [train_x, train_y],\n",
    "            [valid_x, valid_y]\n",
    "        ], (scaler_x)\n"
   ]
  },
  {
   "cell_type": "code",
   "execution_count": 22,
   "id": "45b19236",
   "metadata": {},
   "outputs": [],
   "source": [
    "g = ss_kfold_fn(df_arr, Y, False)\n",
    "\n",
    "((train_x, train_y), (valid_x, valid_y)), s = next(g)"
   ]
  },
  {
   "cell_type": "markdown",
   "id": "188387b3",
   "metadata": {},
   "source": [
    "## 03-02. Bagging\n",
    "\n",
    "<figure>\n",
    "    <img \n",
    "       src=\"https://img1.daumcdn.net/thumb/R1280x0/?scode=mtistory2&fname=https%3A%2F%2Fblog.kakaocdn.net%2Fdn%2FbLHXE3%2Fbtqw7cWPjSb%2FxKoaC8GrwfFbAN2CMraSw0%2Fimg.png\" \n",
    "       width=\"600\">\n",
    "</figure>\n",
    "\n",
    "<I>Definition</I>: [<U>B</U>ootstrap <U>AGG</U>regat<U>ING</U>](https://en.wikipedia.org/wiki/Bootstrap_aggregating) is a machine learning ensemble meta-algorithm designed to improve the stability and accuracy of machine learning algorithms used in statistical classification and regression.\n",
    "\n",
    "Bagging은 주어진 데이터로부터 샘플을 복원추출하는 과정을 말합니다.  \n",
    "ML에서 꽤 많은 경우 중복 데이터의 존재는 해당 샘플의 가중치를 강조하는 것과 비슷한 효과를 발생시킵니다."
   ]
  },
  {
   "cell_type": "code",
   "execution_count": 23,
   "id": "27a8ba62",
   "metadata": {},
   "outputs": [],
   "source": [
    "from sklearn.metrics import f1_score, precision_score, recall_score, roc_auc_score, roc_curve, accuracy_score\n",
    "from tqdm import tqdm\n",
    "\n",
    "\n",
    "#bagging function\n",
    "def randomize_idx_and_col(x, y, bagging_ratio = .7):\n",
    "    indexes, variables = x.shape\n",
    "    \n",
    "    bagging_indexes = int(indexes * bagging_ratio)\n",
    "    bagging_variables = int(variables * bagging_ratio)\n",
    "    \n",
    "    random_idx = np.random.choice(range(indexes), bagging_indexes)\n",
    "    random_col = np.random.choice(range(variables), bagging_variables)\n",
    "    \n",
    "    # return to part of full numpy array x\n",
    "    return (x[random_idx][:,random_col], y[random_idx]), (random_idx, random_col)\n",
    "\n",
    "\n",
    "# bagging classifier \n",
    "def model_generate(\n",
    "    knn_neighbors = [3, 7, 13, 21, 30],\n",
    "    knn_repeats = 5,\n",
    "    dt_repeats = 25,\n",
    "    d_ccp = 5e-5\n",
    "):\n",
    "    models = []\n",
    "    \n",
    "    for n_neighbors in knn_neighbors:\n",
    "        models.extend([KNC(n_neighbors = n_neighbors, n_jobs = -1, weights = 'distance')] * knn_repeats)\n",
    "    models.extend(\n",
    "        [DTC(ccp_alpha = c) for c in np.arange(0, d_ccp * dt_repeats, d_ccp)]\n",
    "    )\n",
    "    return models"
   ]
  },
  {
   "cell_type": "markdown",
   "id": "061db148",
   "metadata": {},
   "source": [
    "### 03-03.  Learning models with Bagging procedure"
   ]
  },
  {
   "cell_type": "code",
   "execution_count": 24,
   "id": "af2f8d58",
   "metadata": {},
   "outputs": [
    {
     "name": "stderr",
     "output_type": "stream",
     "text": [
      "100%|██████████| 50/50 [00:05<00:00,  9.31it/s]\n"
     ]
    }
   ],
   "source": [
    "models = model_generate()\n",
    "\n",
    "logits = []\n",
    "for model in tqdm(models):\n",
    "    sub_train, sub_loc = randomize_idx_and_col(train_x, train_y)\n",
    "    model.fit(*sub_train)\n",
    "    logits.append(model.predict_proba(valid_x[:, sub_loc[1]]))"
   ]
  },
  {
   "cell_type": "code",
   "execution_count": 25,
   "id": "0fc624d8",
   "metadata": {},
   "outputs": [
    {
     "name": "stdout",
     "output_type": "stream",
     "text": [
      "(50, 885, 3)\n"
     ]
    }
   ],
   "source": [
    "logits = np.stack(logits)\n",
    "print(logits.shape)"
   ]
  },
  {
   "cell_type": "markdown",
   "id": "020b3e92",
   "metadata": {},
   "source": [
    "Numpy.array.mean($\\cdot$) 또는 이와 비슷한 기능을 하는 method의 경우 연산하고자 하는 차원을 가리킵니다. \n",
    "```python\n",
    "       logits.min(0).shape -> (885, 3)  \n",
    "       logits.argmax(2).shape -> (50, 885)\n",
    "```\n",
    "* Hard voting: 각 learner의 predict decision을 aggregating하는 방법\n",
    "\n",
    "    $\\rightarrow$ 1) 각 classifier의 decision class가 무엇인지 확인하고, 2) 평균적으로 많이 예측된 클래스로 샘플의 클래스를 분류하는 방법.\n",
    "\n",
    "\n",
    "* Soft voting: 각 learner의 predict probability를 aggregating하는 방법\n",
    "\n",
    "    $\\rightarrow$ 1) 각 classifier의 probability를 전부 합하고, 2) 가장 큰 확률을 갖는 클래스로 샘플의 클래스를 분류하는 방법\n",
    "    "
   ]
  },
  {
   "cell_type": "code",
   "execution_count": 26,
   "id": "42b68466",
   "metadata": {},
   "outputs": [
    {
     "name": "stderr",
     "output_type": "stream",
     "text": [
      "C:\\Users\\keb20\\AppData\\Local\\Temp/ipykernel_26964/1989579651.py:17: UserWarning: Matplotlib is currently using module://matplotlib_inline.backend_inline, which is a non-GUI backend, so cannot show the figure.\n",
      "  fig.show()\n"
     ]
    },
    {
     "data": {
      "image/png": "[encoded data removed]",
      "text/plain": [
       "<Figure size 720x216 with 1 Axes>"
      ]
     },
     "metadata": {
      "needs_background": "light"
     },
     "output_type": "display_data"
    }
   ],
   "source": [
    "accs = [accuracy_score(valid_y, l.argmax(1)) for l in logits]\n",
    "roc_aucs = [roc_auc_score(valid_y, l, multi_class = 'ovr') for l in logits]\n",
    "\n",
    "fig,ax = plt.subplots(1,1, figsize = (10, 3))\n",
    "\n",
    "ax.plot(accs)\n",
    "ax.plot(roc_aucs)\n",
    "\n",
    "soft_avg_acc = accuracy_score(valid_y, logits.mean(0).argmax(-1))\n",
    "hard_avg_acc = accuracy_score(valid_y, logits.argmax(2).mean(0).round().astype(int))\n",
    "avg_roc = roc_auc_score(valid_y, logits.mean(0), multi_class = 'ovr')\n",
    "\n",
    "ax.set_title('Hard ACC: {:.2f}% Soft ACC: {:.2f}% AUC: {:.4f}'.format(\n",
    "    hard_avg_acc * 100, soft_avg_acc * 100, avg_roc\n",
    "))\n",
    "ax.legend(['ACC', 'AUC'])\n",
    "fig.show()"
   ]
  }
 ],
 "metadata": {
  "kernelspec": {
   "display_name": "Python 3.9.7 ('base')",
   "language": "python",
   "name": "python3"
  },
  "language_info": {
   "codemirror_mode": {
    "name": "ipython",
    "version": 3
   },
   "file_extension": ".py",
   "mimetype": "text/x-python",
   "name": "python",
   "nbconvert_exporter": "python",
   "pygments_lexer": "ipython3",
   "version": "3.9.7"
  },
  "vscode": {
   "interpreter": {
    "hash": "1ddd09a61b2c7e17c2a62d168de822f4c67e18302d8919811a53cdcb291e5f9a"
   }
  }
 },
 "nbformat": 4,
 "nbformat_minor": 5
}
