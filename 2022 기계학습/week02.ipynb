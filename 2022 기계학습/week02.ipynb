{
 "cells": [
  {
   "cell_type": "code",
   "execution_count": 1,
   "metadata": {},
   "outputs": [
    {
     "name": "stdout",
     "output_type": "stream",
     "text": [
      "Collecting Pytorch\n",
      "  Downloading pytorch-1.0.2.tar.gz (689 bytes)\n",
      "Building wheels for collected packages: Pytorch\n",
      "  Building wheel for Pytorch (setup.py): started\n",
      "  Building wheel for Pytorch (setup.py): finished with status 'error'\n",
      "  Running setup.py clean for Pytorch\n",
      "Failed to build Pytorch\n",
      "Installing collected packages: Pytorch\n",
      "    Running setup.py install for Pytorch: started\n",
      "    Running setup.py install for Pytorch: finished with status 'error'\n",
      "Note: you may need to restart the kernel to use updated packages.\n"
     ]
    },
    {
     "name": "stderr",
     "output_type": "stream",
     "text": [
      "  ERROR: Command errored out with exit status 1:\n",
      "   command: 'c:\\Users\\keb20\\anaconda3\\python.exe' -u -c 'import io, os, sys, setuptools, tokenize; sys.argv[0] = '\"'\"'C:\\\\Users\\\\keb20\\\\AppData\\\\Local\\\\Temp\\\\pip-install-bfpsbqn7\\\\pytorch_ec4357f196d1409db993c52f63b76c4b\\\\setup.py'\"'\"'; __file__='\"'\"'C:\\\\Users\\\\keb20\\\\AppData\\\\Local\\\\Temp\\\\pip-install-bfpsbqn7\\\\pytorch_ec4357f196d1409db993c52f63b76c4b\\\\setup.py'\"'\"';f = getattr(tokenize, '\"'\"'open'\"'\"', open)(__file__) if os.path.exists(__file__) else io.StringIO('\"'\"'from setuptools import setup; setup()'\"'\"');code = f.read().replace('\"'\"'\\r\\n'\"'\"', '\"'\"'\\n'\"'\"');f.close();exec(compile(code, __file__, '\"'\"'exec'\"'\"'))' bdist_wheel -d 'C:\\Users\\keb20\\AppData\\Local\\Temp\\pip-wheel-l3ulq6id'\n",
      "       cwd: C:\\Users\\keb20\\AppData\\Local\\Temp\\pip-install-bfpsbqn7\\pytorch_ec4357f196d1409db993c52f63b76c4b\\\n",
      "  Complete output (5 lines):\n",
      "  Traceback (most recent call last):\n",
      "    File \"<string>\", line 1, in <module>\n",
      "    File \"C:\\Users\\keb20\\AppData\\Local\\Temp\\pip-install-bfpsbqn7\\pytorch_ec4357f196d1409db993c52f63b76c4b\\setup.py\", line 15, in <module>\n",
      "      raise Exception(message)\n",
      "  Exception: You tried to install \"pytorch\". The package named for PyTorch is \"torch\"\n",
      "  ----------------------------------------\n",
      "  ERROR: Failed building wheel for Pytorch\n",
      "    ERROR: Command errored out with exit status 1:\n",
      "     command: 'c:\\Users\\keb20\\anaconda3\\python.exe' -u -c 'import io, os, sys, setuptools, tokenize; sys.argv[0] = '\"'\"'C:\\\\Users\\\\keb20\\\\AppData\\\\Local\\\\Temp\\\\pip-install-bfpsbqn7\\\\pytorch_ec4357f196d1409db993c52f63b76c4b\\\\setup.py'\"'\"'; __file__='\"'\"'C:\\\\Users\\\\keb20\\\\AppData\\\\Local\\\\Temp\\\\pip-install-bfpsbqn7\\\\pytorch_ec4357f196d1409db993c52f63b76c4b\\\\setup.py'\"'\"';f = getattr(tokenize, '\"'\"'open'\"'\"', open)(__file__) if os.path.exists(__file__) else io.StringIO('\"'\"'from setuptools import setup; setup()'\"'\"');code = f.read().replace('\"'\"'\\r\\n'\"'\"', '\"'\"'\\n'\"'\"');f.close();exec(compile(code, __file__, '\"'\"'exec'\"'\"'))' install --record 'C:\\Users\\keb20\\AppData\\Local\\Temp\\pip-record-0ioaoszk\\install-record.txt' --single-version-externally-managed --compile --install-headers 'c:\\Users\\keb20\\anaconda3\\Include\\Pytorch'\n",
      "         cwd: C:\\Users\\keb20\\AppData\\Local\\Temp\\pip-install-bfpsbqn7\\pytorch_ec4357f196d1409db993c52f63b76c4b\\\n",
      "    Complete output (5 lines):\n",
      "    Traceback (most recent call last):\n",
      "      File \"<string>\", line 1, in <module>\n",
      "      File \"C:\\Users\\keb20\\AppData\\Local\\Temp\\pip-install-bfpsbqn7\\pytorch_ec4357f196d1409db993c52f63b76c4b\\setup.py\", line 11, in <module>\n",
      "        raise Exception(message)\n",
      "    Exception: You tried to install \"pytorch\". The package named for PyTorch is \"torch\"\n",
      "    ----------------------------------------\n",
      "ERROR: Command errored out with exit status 1: 'c:\\Users\\keb20\\anaconda3\\python.exe' -u -c 'import io, os, sys, setuptools, tokenize; sys.argv[0] = '\"'\"'C:\\\\Users\\\\keb20\\\\AppData\\\\Local\\\\Temp\\\\pip-install-bfpsbqn7\\\\pytorch_ec4357f196d1409db993c52f63b76c4b\\\\setup.py'\"'\"'; __file__='\"'\"'C:\\\\Users\\\\keb20\\\\AppData\\\\Local\\\\Temp\\\\pip-install-bfpsbqn7\\\\pytorch_ec4357f196d1409db993c52f63b76c4b\\\\setup.py'\"'\"';f = getattr(tokenize, '\"'\"'open'\"'\"', open)(__file__) if os.path.exists(__file__) else io.StringIO('\"'\"'from setuptools import setup; setup()'\"'\"');code = f.read().replace('\"'\"'\\r\\n'\"'\"', '\"'\"'\\n'\"'\"');f.close();exec(compile(code, __file__, '\"'\"'exec'\"'\"'))' install --record 'C:\\Users\\keb20\\AppData\\Local\\Temp\\pip-record-0ioaoszk\\install-record.txt' --single-version-externally-managed --compile --install-headers 'c:\\Users\\keb20\\anaconda3\\Include\\Pytorch' Check the logs for full command output.\n"
     ]
    }
   ],
   "source": [
    "%pip install Pytorch\n"
   ]
  },
  {
   "cell_type": "code",
   "execution_count": 2,
   "metadata": {},
   "outputs": [
    {
     "name": "stdout",
     "output_type": "stream",
     "text": [
      "Requirement already satisfied: tqdm in c:\\users\\keb20\\anaconda3\\lib\\site-packages (4.62.3)\n",
      "Requirement already satisfied: colorama in c:\\users\\keb20\\anaconda3\\lib\\site-packages (from tqdm) (0.4.4)\n",
      "Note: you may need to restart the kernel to use updated packages.\n"
     ]
    }
   ],
   "source": [
    "%pip install tqdm"
   ]
  },
  {
   "cell_type": "code",
   "execution_count": 3,
   "metadata": {},
   "outputs": [],
   "source": [
    "import numpy as np"
   ]
  },
  {
   "cell_type": "code",
   "execution_count": 4,
   "metadata": {},
   "outputs": [
    {
     "data": {
      "text/plain": [
       "(array(0), dtype('int32'))"
      ]
     },
     "execution_count": 4,
     "metadata": {},
     "output_type": "execute_result"
    }
   ],
   "source": [
    "scalar = 0\n",
    "np_scalar = np.array(scalar)\n",
    "np_scalar, np_scalar.dtype"
   ]
  },
  {
   "cell_type": "code",
   "execution_count": 5,
   "metadata": {},
   "outputs": [
    {
     "data": {
      "text/plain": [
       "(array([0, 1, 2, 3, 4, 5, 6, 7, 8, 9]), dtype('int32'))"
      ]
     },
     "execution_count": 5,
     "metadata": {},
     "output_type": "execute_result"
    }
   ],
   "source": [
    "scalar = range(10)\n",
    "np_scalar = np.array(scalar)\n",
    "np_scalar, np_scalar.dtype"
   ]
  },
  {
   "cell_type": "code",
   "execution_count": 8,
   "metadata": {},
   "outputs": [
    {
     "name": "stderr",
     "output_type": "stream",
     "text": [
      "C:\\Users\\keb20\\AppData\\Local\\Temp/ipykernel_23928/3945050948.py:3: VisibleDeprecationWarning: Creating an ndarray from ragged nested sequences (which is a list-or-tuple of lists-or-tuples-or ndarrays with different lengths or shapes) is deprecated. If you meant to do this, you must specify 'dtype=object' when creating the ndarray.\n",
      "  np_scalar = np.array(scalar)\n"
     ]
    },
    {
     "data": {
      "text/plain": [
       "(array([list([0.0, 1.0, 2.0, 3.0, 4.0, 5.0, 6.0, 7.0, 8.0, 9.0]),\n",
       "        list([0.0, 1.0, 2.0, 3.0, 4.0, 5.0, 6.0, 7.0, 8.0, 9.0, 10.0]),\n",
       "        list([0.0, 1.0, 2.0, 3.0, 4.0, 5.0, 6.0, 7.0, 8.0, 9.0, 10.0, 11.0]),\n",
       "        list([0.0, 1.0, 2.0, 3.0, 4.0, 5.0, 6.0, 7.0, 8.0, 9.0, 10.0, 11.0, 12.0]),\n",
       "        list([0.0, 1.0, 2.0, 3.0, 4.0, 5.0, 6.0, 7.0, 8.0, 9.0, 10.0, 11.0, 12.0, 13.0]),\n",
       "        list([0.0, 1.0, 2.0, 3.0, 4.0, 5.0, 6.0, 7.0, 8.0, 9.0, 10.0, 11.0, 12.0, 13.0, 14.0]),\n",
       "        list([0.0, 1.0, 2.0, 3.0, 4.0, 5.0, 6.0, 7.0, 8.0, 9.0, 10.0, 11.0, 12.0, 13.0, 14.0, 15.0]),\n",
       "        list([0.0, 1.0, 2.0, 3.0, 4.0, 5.0, 6.0, 7.0, 8.0, 9.0, 10.0, 11.0, 12.0, 13.0, 14.0, 15.0, 16.0]),\n",
       "        list([0.0, 1.0, 2.0, 3.0, 4.0, 5.0, 6.0, 7.0, 8.0, 9.0, 10.0, 11.0, 12.0, 13.0, 14.0, 15.0, 16.0, 17.0]),\n",
       "        list([0.0, 1.0, 2.0, 3.0, 4.0, 5.0, 6.0, 7.0, 8.0, 9.0, 10.0, 11.0, 12.0, 13.0, 14.0, 15.0, 16.0, 17.0, 18.0])],\n",
       "       dtype=object),\n",
       " dtype('O'))"
      ]
     },
     "execution_count": 8,
     "metadata": {},
     "output_type": "execute_result"
    }
   ],
   "source": [
    "# comprehension 응용\n",
    "scalar = [[float(j) for j in range(_+10)] for _ in range(10)]\n",
    "np_scalar = np.array(scalar)\n",
    "np_scalar, np_scalar.dtype"
   ]
  },
  {
   "cell_type": "code",
   "execution_count": 9,
   "metadata": {},
   "outputs": [
    {
     "data": {
      "text/plain": [
       "(array([[ 0.,  1.,  2.,  3.,  4.,  5.,  6.,  7.,  8.,  9.],\n",
       "        [ 1.,  2.,  3.,  4.,  5.,  6.,  7.,  8.,  9., 10.],\n",
       "        [ 2.,  3.,  4.,  5.,  6.,  7.,  8.,  9., 10., 11.],\n",
       "        [ 3.,  4.,  5.,  6.,  7.,  8.,  9., 10., 11., 12.],\n",
       "        [ 4.,  5.,  6.,  7.,  8.,  9., 10., 11., 12., 13.],\n",
       "        [ 5.,  6.,  7.,  8.,  9., 10., 11., 12., 13., 14.],\n",
       "        [ 6.,  7.,  8.,  9., 10., 11., 12., 13., 14., 15.],\n",
       "        [ 7.,  8.,  9., 10., 11., 12., 13., 14., 15., 16.],\n",
       "        [ 8.,  9., 10., 11., 12., 13., 14., 15., 16., 17.],\n",
       "        [ 9., 10., 11., 12., 13., 14., 15., 16., 17., 18.]]),\n",
       " dtype('float64'))"
      ]
     },
     "execution_count": 9,
     "metadata": {},
     "output_type": "execute_result"
    }
   ],
   "source": [
    "# numpy이기 때문에 연산됨\n",
    "scalar = [[float(j) for j in range(_, _+10)] for _ in range(10)]\n",
    "np_scalar = np.array(scalar)\n",
    "np_scalar, np_scalar.dtype"
   ]
  },
  {
   "cell_type": "code",
   "execution_count": 15,
   "metadata": {},
   "outputs": [
    {
     "name": "stdout",
     "output_type": "stream",
     "text": [
      "[array([[-0.3202145 ,  0.47540751,  0.64061335],\n",
      "       [ 0.41199192, -0.89194632, -1.64233215],\n",
      "       [-1.71805183, -1.20143942,  0.32993002],\n",
      "       [ 2.37347204,  1.93829501,  0.97694795]]), array([[ 0.67156116, -1.10638357,  0.38899211],\n",
      "       [-1.37840093,  0.15407509, -1.17712069],\n",
      "       [-0.86886878, -0.57801257,  0.71042913],\n",
      "       [-0.0839646 , -1.33472568,  0.42824481]]), array([[ 0.40132371, -0.98591586,  1.54307014],\n",
      "       [ 0.47638338,  0.15047493, -0.15166019],\n",
      "       [ 0.73893949,  1.07182624,  2.18618682],\n",
      "       [ 0.16352171, -1.1532184 , -0.11264096]]), array([[ 0.84116529, -0.17855695,  0.27832417],\n",
      "       [ 0.10487891,  0.81223989,  0.48472413],\n",
      "       [-2.25777161,  0.69206855,  0.44470095],\n",
      "       [ 0.35598799,  0.30953112, -1.68392613]]), array([[-2.25690429, -1.78846832,  0.34520411],\n",
      "       [-1.05779663, -0.5239075 ,  0.10036649],\n",
      "       [-0.01571441, -0.07391123,  0.87802326],\n",
      "       [ 1.63333793, -1.03911344, -0.22777274]])]\n",
      "[(4, 3), (4, 3), (4, 3), (4, 3), (4, 3)]\n"
     ]
    }
   ],
   "source": [
    "random_noise_generator_fn = lambda : np.random.normal(size = (3))\n",
    "scalar = [\n",
    "    np.array([random_noise_generator_fn() for _ in range(4)]) for _ in range(5)\n",
    "]\n",
    "print(scalar)\n",
    "print([i.shape for i in scalar])"
   ]
  },
  {
   "cell_type": "code",
   "execution_count": 16,
   "metadata": {},
   "outputs": [
    {
     "name": "stdout",
     "output_type": "stream",
     "text": [
      "(5, 4, 3) float64\n",
      "(20, 3)\n",
      "(4, 15)\n"
     ]
    }
   ],
   "source": [
    "# concatenate\n",
    "np_scalar = np.array(scalar)\n",
    "print(np_scalar.shape, np_scalar.dtype)\n",
    "\n",
    "np_concat_0_scalar = np.concatenate(scalar, 0)\n",
    "print(np_concat_0_scalar.shape)\n",
    "\n",
    "np_concat_1_scalar = np.concatenate(scalar, 1)\n",
    "print(np_concat_1_scalar.shape)"
   ]
  },
  {
   "cell_type": "code",
   "execution_count": 17,
   "metadata": {},
   "outputs": [
    {
     "data": {
      "text/plain": [
       "array([[ 0.41199192, -0.89194632, -1.64233215],\n",
       "       [-1.37840093,  0.15407509, -1.17712069],\n",
       "       [ 0.47638338,  0.15047493, -0.15166019],\n",
       "       [ 0.10487891,  0.81223989,  0.48472413],\n",
       "       [-1.05779663, -0.5239075 ,  0.10036649]])"
      ]
     },
     "execution_count": 17,
     "metadata": {},
     "output_type": "execute_result"
    }
   ],
   "source": [
    "np_scalar[: , 1]\n",
    "np_concat_0_scalar[1::4]"
   ]
  },
  {
   "cell_type": "code",
   "execution_count": 20,
   "metadata": {},
   "outputs": [
    {
     "name": "stdout",
     "output_type": "stream",
     "text": [
      "(5, 4, 3) float64\n",
      "(5, 4, 3)\n",
      "(4, 5, 3)\n",
      "(4, 3, 5)\n"
     ]
    }
   ],
   "source": [
    "# stack\n",
    "np_scalar = np.array(scalar)\n",
    "print(np_scalar.shape, np_scalar.dtype)\n",
    "\n",
    "np_stack_0_scalar = np.stack(scalar,0)\n",
    "print(np_stack_0_scalar.shape)\n",
    "\n",
    "np_stack_1_scalar = np.stack(scalar,1)\n",
    "print(np_stack_1_scalar.shape)\n",
    "\n",
    "np_stack_2_scalar = np.stack(scalar,2)\n",
    "print(np_stack_2_scalar.shape)"
   ]
  },
  {
   "cell_type": "code",
   "execution_count": 22,
   "metadata": {},
   "outputs": [
    {
     "name": "stdout",
     "output_type": "stream",
     "text": [
      "[[[ 1.40286993 -1.0138989 ]\n",
      "  [-1.01489008 -1.25155204]\n",
      "  [-0.75571886 -0.28872708]]\n",
      "\n",
      " [[ 0.41583214 -0.99930586]\n",
      "  [-0.59133086  1.05585783]\n",
      "  [ 3.76699349  3.10750404]]\n",
      "\n",
      " [[-0.10794596 -0.68732542]\n",
      "  [ 0.02979498 -3.79972481]\n",
      "  [ 1.16513951 -1.31248782]]\n",
      "\n",
      " [[ 0.5990825   1.76113941]\n",
      "  [ 1.87326484  1.05609846]\n",
      "  [-0.60595014 -1.87283538]]]\n",
      "[[[ 1.40286993 -1.0138989 ]\n",
      "  [-1.01489008 -1.25155204]\n",
      "  [-0.75571886 -0.28872708]]\n",
      "\n",
      " [[ 0.41583214 -0.99930586]\n",
      "  [-0.59133086  1.05585783]\n",
      "  [ 3.76699349  3.10750404]]\n",
      "\n",
      " [[-0.10794596 -0.68732542]\n",
      "  [ 0.02979498 -3.79972481]\n",
      "  [ 1.16513951 -1.31248782]]\n",
      "\n",
      " [[ 0.5990825   1.76113941]\n",
      "  [ 1.87326484  1.05609846]\n",
      "  [-0.60595014 -1.87283538]]]\n"
     ]
    }
   ],
   "source": [
    "tensor_a = np.random.normal(size = (4, 3, 2))\n",
    "tensor_b = np.random.normal(size = (4, 3, 2))\n",
    "\n",
    "add_tensor_ab = tensor_a + tensor_b\n",
    "print(add_tensor_ab)\n",
    "add_tensor_ab = np.add(tensor_a, tensor_b)\n",
    "print(add_tensor_ab)"
   ]
  },
  {
   "cell_type": "code",
   "execution_count": null,
   "metadata": {},
   "outputs": [],
   "source": [
    "# substract\n",
    "# divide\n",
    "# matmul(inner product) @\n",
    "# transpose() 전치\n",
    "# np.linalg.inv() 역행렬"
   ]
  },
  {
   "cell_type": "code",
   "execution_count": 23,
   "metadata": {},
   "outputs": [
    {
     "data": {
      "text/html": [
       "<div>\n",
       "<style scoped>\n",
       "    .dataframe tbody tr th:only-of-type {\n",
       "        vertical-align: middle;\n",
       "    }\n",
       "\n",
       "    .dataframe tbody tr th {\n",
       "        vertical-align: top;\n",
       "    }\n",
       "\n",
       "    .dataframe thead th {\n",
       "        text-align: right;\n",
       "    }\n",
       "</style>\n",
       "<table border=\"1\" class=\"dataframe\">\n",
       "  <thead>\n",
       "    <tr style=\"text-align: right;\">\n",
       "      <th></th>\n",
       "      <th>sepal length (cm)</th>\n",
       "      <th>sepal width (cm)</th>\n",
       "      <th>petal length (cm)</th>\n",
       "      <th>petal width (cm)</th>\n",
       "      <th>target</th>\n",
       "    </tr>\n",
       "  </thead>\n",
       "  <tbody>\n",
       "    <tr>\n",
       "      <th>0</th>\n",
       "      <td>5.1</td>\n",
       "      <td>3.5</td>\n",
       "      <td>1.4</td>\n",
       "      <td>0.2</td>\n",
       "      <td>setosa</td>\n",
       "    </tr>\n",
       "    <tr>\n",
       "      <th>1</th>\n",
       "      <td>4.9</td>\n",
       "      <td>3.0</td>\n",
       "      <td>1.4</td>\n",
       "      <td>0.2</td>\n",
       "      <td>setosa</td>\n",
       "    </tr>\n",
       "    <tr>\n",
       "      <th>2</th>\n",
       "      <td>4.7</td>\n",
       "      <td>3.2</td>\n",
       "      <td>1.3</td>\n",
       "      <td>0.2</td>\n",
       "      <td>setosa</td>\n",
       "    </tr>\n",
       "    <tr>\n",
       "      <th>3</th>\n",
       "      <td>4.6</td>\n",
       "      <td>3.1</td>\n",
       "      <td>1.5</td>\n",
       "      <td>0.2</td>\n",
       "      <td>setosa</td>\n",
       "    </tr>\n",
       "    <tr>\n",
       "      <th>4</th>\n",
       "      <td>5.0</td>\n",
       "      <td>3.6</td>\n",
       "      <td>1.4</td>\n",
       "      <td>0.2</td>\n",
       "      <td>setosa</td>\n",
       "    </tr>\n",
       "    <tr>\n",
       "      <th>...</th>\n",
       "      <td>...</td>\n",
       "      <td>...</td>\n",
       "      <td>...</td>\n",
       "      <td>...</td>\n",
       "      <td>...</td>\n",
       "    </tr>\n",
       "    <tr>\n",
       "      <th>145</th>\n",
       "      <td>6.7</td>\n",
       "      <td>3.0</td>\n",
       "      <td>5.2</td>\n",
       "      <td>2.3</td>\n",
       "      <td>virginica</td>\n",
       "    </tr>\n",
       "    <tr>\n",
       "      <th>146</th>\n",
       "      <td>6.3</td>\n",
       "      <td>2.5</td>\n",
       "      <td>5.0</td>\n",
       "      <td>1.9</td>\n",
       "      <td>virginica</td>\n",
       "    </tr>\n",
       "    <tr>\n",
       "      <th>147</th>\n",
       "      <td>6.5</td>\n",
       "      <td>3.0</td>\n",
       "      <td>5.2</td>\n",
       "      <td>2.0</td>\n",
       "      <td>virginica</td>\n",
       "    </tr>\n",
       "    <tr>\n",
       "      <th>148</th>\n",
       "      <td>NaN</td>\n",
       "      <td>3.4</td>\n",
       "      <td>5.4</td>\n",
       "      <td>2.3</td>\n",
       "      <td>virginica</td>\n",
       "    </tr>\n",
       "    <tr>\n",
       "      <th>149</th>\n",
       "      <td>5.9</td>\n",
       "      <td>3.0</td>\n",
       "      <td>5.1</td>\n",
       "      <td>1.8</td>\n",
       "      <td>virginica</td>\n",
       "    </tr>\n",
       "  </tbody>\n",
       "</table>\n",
       "<p>150 rows × 5 columns</p>\n",
       "</div>"
      ],
      "text/plain": [
       "     sepal length (cm)  sepal width (cm)  petal length (cm)  petal width (cm)  \\\n",
       "0                  5.1               3.5                1.4               0.2   \n",
       "1                  4.9               3.0                1.4               0.2   \n",
       "2                  4.7               3.2                1.3               0.2   \n",
       "3                  4.6               3.1                1.5               0.2   \n",
       "4                  5.0               3.6                1.4               0.2   \n",
       "..                 ...               ...                ...               ...   \n",
       "145                6.7               3.0                5.2               2.3   \n",
       "146                6.3               2.5                5.0               1.9   \n",
       "147                6.5               3.0                5.2               2.0   \n",
       "148                NaN               3.4                5.4               2.3   \n",
       "149                5.9               3.0                5.1               1.8   \n",
       "\n",
       "        target  \n",
       "0       setosa  \n",
       "1       setosa  \n",
       "2       setosa  \n",
       "3       setosa  \n",
       "4       setosa  \n",
       "..         ...  \n",
       "145  virginica  \n",
       "146  virginica  \n",
       "147  virginica  \n",
       "148  virginica  \n",
       "149  virginica  \n",
       "\n",
       "[150 rows x 5 columns]"
      ]
     },
     "execution_count": 23,
     "metadata": {},
     "output_type": "execute_result"
    }
   ],
   "source": [
    "import pandas as pd\n",
    "\n",
    "load_Iris = pd.read_csv('./files/Week02_iris_w_missing.csv')\n",
    "load_Iris"
   ]
  },
  {
   "cell_type": "code",
   "execution_count": 25,
   "metadata": {},
   "outputs": [
    {
     "data": {
      "text/plain": [
       "sepal length (cm)       5.1\n",
       "sepal width (cm)        3.5\n",
       "petal length (cm)       1.4\n",
       "petal width (cm)        0.2\n",
       "target               setosa\n",
       "Name: 0, dtype: object"
      ]
     },
     "execution_count": 25,
     "metadata": {},
     "output_type": "execute_result"
    }
   ],
   "source": [
    "# loc index key에 0이 존재하게 됨\n",
    "load_Iris.loc[0]\n",
    "# iloc을 사용하는 경우 인덱스로 따라가게 됨"
   ]
  },
  {
   "cell_type": "code",
   "execution_count": 24,
   "metadata": {},
   "outputs": [
    {
     "name": "stdout",
     "output_type": "stream",
     "text": [
      "<class 'pandas.core.frame.DataFrame'>\n",
      "RangeIndex: 150 entries, 0 to 149\n",
      "Data columns (total 5 columns):\n",
      " #   Column             Non-Null Count  Dtype  \n",
      "---  ------             --------------  -----  \n",
      " 0   sepal length (cm)  144 non-null    float64\n",
      " 1   sepal width (cm)   140 non-null    float64\n",
      " 2   petal length (cm)  145 non-null    float64\n",
      " 3   petal width (cm)   141 non-null    float64\n",
      " 4   target             150 non-null    object \n",
      "dtypes: float64(4), object(1)\n",
      "memory usage: 6.0+ KB\n",
      "None\n",
      "<class 'pandas.core.frame.DataFrame'>\n",
      "Int64Index: 122 entries, 0 to 149\n",
      "Data columns (total 5 columns):\n",
      " #   Column             Non-Null Count  Dtype  \n",
      "---  ------             --------------  -----  \n",
      " 0   sepal length (cm)  122 non-null    float64\n",
      " 1   sepal width (cm)   122 non-null    float64\n",
      " 2   petal length (cm)  122 non-null    float64\n",
      " 3   petal width (cm)   122 non-null    float64\n",
      " 4   target             122 non-null    object \n",
      "dtypes: float64(4), object(1)\n",
      "memory usage: 5.7+ KB\n",
      "None\n"
     ]
    }
   ],
   "source": [
    "# 결측치 제어방법 : 제거 & 보간\n",
    "print(load_Iris.info())\n",
    "print(load_Iris.dropna(axis = 0).info())"
   ]
  },
  {
   "cell_type": "code",
   "execution_count": 27,
   "metadata": {},
   "outputs": [
    {
     "name": "stdout",
     "output_type": "stream",
     "text": [
      "       sepal length (cm)  sepal width (cm)  petal length (cm)  \\\n",
      "count         144.000000        140.000000         145.000000   \n",
      "mean            5.845833          3.060000           3.713103   \n",
      "std             0.837485          0.434286           1.767030   \n",
      "min             4.300000          2.000000           1.000000   \n",
      "25%             5.100000          2.800000           1.500000   \n",
      "50%             5.800000          3.000000           4.300000   \n",
      "75%             6.400000          3.325000           5.100000   \n",
      "max             7.900000          4.400000           6.900000   \n",
      "\n",
      "       petal width (cm)  \n",
      "count        141.000000  \n",
      "mean           1.204965  \n",
      "std            0.767401  \n",
      "min            0.100000  \n",
      "25%            0.300000  \n",
      "50%            1.300000  \n",
      "75%            1.800000  \n",
      "max            2.500000  \n",
      "       sepal length (cm)  sepal width (cm)  petal length (cm)  \\\n",
      "count       1.440000e+02      1.400000e+02       1.450000e+02   \n",
      "mean       -1.664371e-16     -3.176626e-15      -1.503778e-15   \n",
      "std         1.000000e+00      1.000000e+00       1.000000e+00   \n",
      "min        -1.845804e+00     -2.440788e+00      -1.535403e+00   \n",
      "25%        -8.905632e-01     -5.986838e-01      -1.252442e+00   \n",
      "50%        -5.472735e-02     -1.381578e-01       3.321372e-01   \n",
      "75%         6.617034e-01      6.101970e-01       7.848742e-01   \n",
      "max         2.452780e+00      3.085524e+00       1.803532e+00   \n",
      "\n",
      "       petal width (cm)  \n",
      "count      1.410000e+02  \n",
      "mean      -9.984133e-16  \n",
      "std        1.000000e+00  \n",
      "min       -1.439880e+00  \n",
      "25%       -1.179260e+00  \n",
      "50%        1.238407e-01  \n",
      "75%        7.753909e-01  \n",
      "max        1.687561e+00  \n"
     ]
    },
    {
     "name": "stderr",
     "output_type": "stream",
     "text": [
      "C:\\Users\\keb20\\AppData\\Local\\Temp/ipykernel_23928/4194830812.py:2: FutureWarning: Dropping of nuisance columns in DataFrame reductions (with 'numeric_only=None') is deprecated; in a future version this will raise TypeError.  Select only valid columns before calling the reduction.\n",
      "  mean, std = load_Iris.mean(), load_Iris.std()\n"
     ]
    }
   ],
   "source": [
    "# normalize\n",
    "mean, std = load_Iris.mean(), load_Iris.std()\n",
    "normal_load_Iris = (load_Iris.iloc[:, :-1] - mean) / std\n",
    "print(load_Iris.describe())\n",
    "print(normal_load_Iris.describe())"
   ]
  },
  {
   "cell_type": "code",
   "execution_count": 31,
   "metadata": {},
   "outputs": [
    {
     "data": {
      "text/plain": [
       "0      0\n",
       "1      0\n",
       "2      0\n",
       "3      0\n",
       "4      0\n",
       "      ..\n",
       "145    2\n",
       "146    2\n",
       "147    2\n",
       "148    2\n",
       "149    2\n",
       "Name: target, Length: 150, dtype: int64"
      ]
     },
     "execution_count": 31,
     "metadata": {},
     "output_type": "execute_result"
    }
   ],
   "source": [
    "# value Encoding\n",
    "\n",
    "# Label encoding\n",
    "Iris_target_dict = {i:n for n, i in enumerate(load_Iris.target.unique())}\n",
    "Iris_label_encoding = load_Iris.target.apply(lambda x : Iris_target_dict[x])\n",
    "Iris_label_encoding"
   ]
  },
  {
   "cell_type": "code",
   "execution_count": 32,
   "metadata": {},
   "outputs": [
    {
     "data": {
      "text/plain": [
       "0      (1, 0)\n",
       "1      (1, 0)\n",
       "2      (1, 0)\n",
       "3      (1, 0)\n",
       "4      (1, 0)\n",
       "        ...  \n",
       "145    (1, 1)\n",
       "146    (1, 1)\n",
       "147    (1, 1)\n",
       "148    (1, 1)\n",
       "149    (1, 1)\n",
       "Name: target, Length: 150, dtype: object"
      ]
     },
     "execution_count": 32,
     "metadata": {},
     "output_type": "execute_result"
    }
   ],
   "source": [
    "# Binary encoding\n",
    "def int2byte(x):\n",
    "    return x % 2, x // 2\n",
    "Iris_binary_encoding = Iris_label_encoding.apply(lambda x:int2byte(x+1))\n",
    "Iris_binary_encoding"
   ]
  },
  {
   "cell_type": "code",
   "execution_count": 33,
   "metadata": {},
   "outputs": [
    {
     "data": {
      "text/plain": [
       "array([[1., 0., 0.],\n",
       "       [1., 0., 0.],\n",
       "       [1., 0., 0.],\n",
       "       [1., 0., 0.],\n",
       "       [1., 0., 0.],\n",
       "       [1., 0., 0.],\n",
       "       [1., 0., 0.],\n",
       "       [1., 0., 0.],\n",
       "       [1., 0., 0.],\n",
       "       [1., 0., 0.],\n",
       "       [1., 0., 0.],\n",
       "       [1., 0., 0.],\n",
       "       [1., 0., 0.],\n",
       "       [1., 0., 0.],\n",
       "       [1., 0., 0.],\n",
       "       [1., 0., 0.],\n",
       "       [1., 0., 0.],\n",
       "       [1., 0., 0.],\n",
       "       [1., 0., 0.],\n",
       "       [1., 0., 0.],\n",
       "       [1., 0., 0.],\n",
       "       [1., 0., 0.],\n",
       "       [1., 0., 0.],\n",
       "       [1., 0., 0.],\n",
       "       [1., 0., 0.],\n",
       "       [1., 0., 0.],\n",
       "       [1., 0., 0.],\n",
       "       [1., 0., 0.],\n",
       "       [1., 0., 0.],\n",
       "       [1., 0., 0.],\n",
       "       [1., 0., 0.],\n",
       "       [1., 0., 0.],\n",
       "       [1., 0., 0.],\n",
       "       [1., 0., 0.],\n",
       "       [1., 0., 0.],\n",
       "       [1., 0., 0.],\n",
       "       [1., 0., 0.],\n",
       "       [1., 0., 0.],\n",
       "       [1., 0., 0.],\n",
       "       [1., 0., 0.],\n",
       "       [1., 0., 0.],\n",
       "       [1., 0., 0.],\n",
       "       [1., 0., 0.],\n",
       "       [1., 0., 0.],\n",
       "       [1., 0., 0.],\n",
       "       [1., 0., 0.],\n",
       "       [1., 0., 0.],\n",
       "       [1., 0., 0.],\n",
       "       [1., 0., 0.],\n",
       "       [1., 0., 0.],\n",
       "       [0., 1., 0.],\n",
       "       [0., 1., 0.],\n",
       "       [0., 1., 0.],\n",
       "       [0., 1., 0.],\n",
       "       [0., 1., 0.],\n",
       "       [0., 1., 0.],\n",
       "       [0., 1., 0.],\n",
       "       [0., 1., 0.],\n",
       "       [0., 1., 0.],\n",
       "       [0., 1., 0.],\n",
       "       [0., 1., 0.],\n",
       "       [0., 1., 0.],\n",
       "       [0., 1., 0.],\n",
       "       [0., 1., 0.],\n",
       "       [0., 1., 0.],\n",
       "       [0., 1., 0.],\n",
       "       [0., 1., 0.],\n",
       "       [0., 1., 0.],\n",
       "       [0., 1., 0.],\n",
       "       [0., 1., 0.],\n",
       "       [0., 1., 0.],\n",
       "       [0., 1., 0.],\n",
       "       [0., 1., 0.],\n",
       "       [0., 1., 0.],\n",
       "       [0., 1., 0.],\n",
       "       [0., 1., 0.],\n",
       "       [0., 1., 0.],\n",
       "       [0., 1., 0.],\n",
       "       [0., 1., 0.],\n",
       "       [0., 1., 0.],\n",
       "       [0., 1., 0.],\n",
       "       [0., 1., 0.],\n",
       "       [0., 1., 0.],\n",
       "       [0., 1., 0.],\n",
       "       [0., 1., 0.],\n",
       "       [0., 1., 0.],\n",
       "       [0., 1., 0.],\n",
       "       [0., 1., 0.],\n",
       "       [0., 1., 0.],\n",
       "       [0., 1., 0.],\n",
       "       [0., 1., 0.],\n",
       "       [0., 1., 0.],\n",
       "       [0., 1., 0.],\n",
       "       [0., 1., 0.],\n",
       "       [0., 1., 0.],\n",
       "       [0., 1., 0.],\n",
       "       [0., 1., 0.],\n",
       "       [0., 1., 0.],\n",
       "       [0., 1., 0.],\n",
       "       [0., 1., 0.],\n",
       "       [0., 0., 1.],\n",
       "       [0., 0., 1.],\n",
       "       [0., 0., 1.],\n",
       "       [0., 0., 1.],\n",
       "       [0., 0., 1.],\n",
       "       [0., 0., 1.],\n",
       "       [0., 0., 1.],\n",
       "       [0., 0., 1.],\n",
       "       [0., 0., 1.],\n",
       "       [0., 0., 1.],\n",
       "       [0., 0., 1.],\n",
       "       [0., 0., 1.],\n",
       "       [0., 0., 1.],\n",
       "       [0., 0., 1.],\n",
       "       [0., 0., 1.],\n",
       "       [0., 0., 1.],\n",
       "       [0., 0., 1.],\n",
       "       [0., 0., 1.],\n",
       "       [0., 0., 1.],\n",
       "       [0., 0., 1.],\n",
       "       [0., 0., 1.],\n",
       "       [0., 0., 1.],\n",
       "       [0., 0., 1.],\n",
       "       [0., 0., 1.],\n",
       "       [0., 0., 1.],\n",
       "       [0., 0., 1.],\n",
       "       [0., 0., 1.],\n",
       "       [0., 0., 1.],\n",
       "       [0., 0., 1.],\n",
       "       [0., 0., 1.],\n",
       "       [0., 0., 1.],\n",
       "       [0., 0., 1.],\n",
       "       [0., 0., 1.],\n",
       "       [0., 0., 1.],\n",
       "       [0., 0., 1.],\n",
       "       [0., 0., 1.],\n",
       "       [0., 0., 1.],\n",
       "       [0., 0., 1.],\n",
       "       [0., 0., 1.],\n",
       "       [0., 0., 1.],\n",
       "       [0., 0., 1.],\n",
       "       [0., 0., 1.],\n",
       "       [0., 0., 1.],\n",
       "       [0., 0., 1.],\n",
       "       [0., 0., 1.],\n",
       "       [0., 0., 1.],\n",
       "       [0., 0., 1.],\n",
       "       [0., 0., 1.],\n",
       "       [0., 0., 1.],\n",
       "       [0., 0., 1.]])"
      ]
     },
     "execution_count": 33,
     "metadata": {},
     "output_type": "execute_result"
    }
   ],
   "source": [
    "# one-hot encoding\n",
    "Iris_onehot_encoding = np.eye(3)[Iris_label_encoding]\n",
    "Iris_onehot_encoding"
   ]
  }
 ],
 "metadata": {
  "kernelspec": {
   "display_name": "Python 3.9.7 ('base')",
   "language": "python",
   "name": "python3"
  },
  "language_info": {
   "codemirror_mode": {
    "name": "ipython",
    "version": 3
   },
   "file_extension": ".py",
   "mimetype": "text/x-python",
   "name": "python",
   "nbconvert_exporter": "python",
   "pygments_lexer": "ipython3",
   "version": "3.9.7"
  },
  "orig_nbformat": 4,
  "vscode": {
   "interpreter": {
    "hash": "1ddd09a61b2c7e17c2a62d168de822f4c67e18302d8919811a53cdcb291e5f9a"
   }
  }
 },
 "nbformat": 4,
 "nbformat_minor": 2
}
