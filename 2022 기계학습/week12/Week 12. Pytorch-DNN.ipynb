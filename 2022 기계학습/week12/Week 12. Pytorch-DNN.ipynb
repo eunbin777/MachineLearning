{
 "cells": [
  {
   "cell_type": "markdown",
   "id": "77c665d7",
   "metadata": {},
   "source": [
    "퍼셉트론 모델은 linear regression과 굉장히 유사한 형태, sigmoid를 사용하면 logistic regression\n",
    "linear regression의 경우에는 weight를 다 기억할 필요 없지만 퍼셉트론 모델을 layer가 깊어질 수록 memory에 기억해야할 weight가 늘어난다.\n",
    "따라서 한번에 모든 데이터를 학습하지 않도록 batch 단위로 잘라서 batch_size별로 반복한다."
   ]
  },
  {
   "cell_type": "markdown",
   "id": "1e76ab9f",
   "metadata": {},
   "source": [
    "# 00. Load data & Preprocessing"
   ]
  },
  {
   "cell_type": "code",
   "execution_count": 1,
   "id": "85a8354c",
   "metadata": {},
   "outputs": [],
   "source": [
    "import os\n",
    "from collections import Counter\n",
    "import random\n",
    "\n",
    "from tqdm import tqdm\n",
    "\n",
    "import pandas as pds\n",
    "import numpy as np\n",
    "\n",
    "from matplotlib import pyplot as plt\n",
    "import seaborn as sbn\n",
    "\n",
    "from itertools import product\n",
    "from collections import Counter\n",
    "\n",
    "from sklearn.preprocessing import StandardScaler\n",
    "from sklearn.model_selection import StratifiedKFold\n",
    "\n",
    "\n",
    "\n",
    "def cat_transform(df, cs):\n",
    "    return_list = []\n",
    "    numeric_columns = []\n",
    "    \n",
    "    for c in cs:\n",
    "        # categorical column list 'cs' 중 하나인 \"c\"에 존재하는 고윳 값들 전부에 대응되는 숫자 생성\n",
    "        unique_values = {i : n for n,i in enumerate(sorted(df[c].unique()))}\n",
    "        \n",
    "        # lambda를 활용하여 dataframe의 c column에 존재하는 각 값들을 숫자로 변환\n",
    "        num_df = df[c].apply(lambda x: unique_values[x])\n",
    "        \n",
    "        # 만약 고윳값이 2개인 경우, 1열로 표현 가능 ( e.g. 0 - 1 or -1 - 1 )\n",
    "        if len(unique_values) == 2:\n",
    "            return_list.append(num_df.values.reshape(-1,1))\n",
    "        \n",
    "        # 만약 고윳값이 3개 이상인 경우, 고윳값 갯수만큼의 열을 활용한 one-hot encoding을 수행해야 함.\n",
    "        # 단 너무 많은 고윳값의 경우 discrete numerical variables일 수 있기 때문에, one-hot encoding에서 제외함\n",
    "        elif len(unique_values) < 10:\n",
    "            return_list.append(np.eye(len(unique_values))[num_df])\n",
    "\n",
    "        # 제외한 column들을 return하여 numerical preprocessing을 적용\n",
    "        else:\n",
    "            numeric_columns.append(c)\n",
    "    return np.concatenate(return_list, 1), numeric_columns\n",
    "\n",
    "\n",
    "def num_transform(df, cs):\n",
    "    num_df = df[cs].copy().values\n",
    "    \n",
    "    #열별 평균으로 빼고 분산을 1로 변환하는 Standard scaling (a.k.a z-scaling)\n",
    "    num_df = (df[cs].values - num_df.mean(0)) / (num_df.std(0) + 1e-10)\n",
    "    return num_df\n",
    "\n",
    "\n",
    "# Argument data_x, data_y는 numpy.array\n",
    "def ss_kfold_fn(data_x, data_y, scaling = True):\n",
    "    kf = StratifiedKFold()\n",
    "    for n, (train_idx, valid_idx) in enumerate(kf.split(data_x, data_y)):\n",
    "        \n",
    "        scaler_x = StandardScaler()\n",
    "        \n",
    "        if scaling:\n",
    "            \n",
    "            train_x = scaler_x.fit_transform(data_x[train_idx])\n",
    "            valid_x = scaler_x.transform(data_x[valid_idx])\n",
    "            \n",
    "        else:\n",
    "            # numpy.array indexing\n",
    "            train_x = data_x[train_idx]\n",
    "            valid_x = data_x[valid_idx]\n",
    "\n",
    "        \n",
    "        train_y = data_y[train_idx]\n",
    "        valid_y = data_y[valid_idx]\n",
    "        \n",
    "        # \"yield\"는 iterative type object를 반복문 순서에 따라 return 하는 기능을 지원함.\n",
    "        yield [\n",
    "            [train_x, train_y],\n",
    "            [valid_x, valid_y]\n",
    "        ], (scaler_x)\n",
    "\n",
    "        \n",
    "        \n",
    "df = pds.read_csv(\n",
    "    os.path.join('../files/Week 10. data-student.csv')\n",
    "    , delimiter=';'\n",
    ")\n",
    "Y = df['Target']\n",
    "Y = Y.apply(lambda x: 0 if x == 'Graduate' else (1 if x == 'Enrolled' else 2 )).values\n",
    "X = df.drop(columns = ['Target'], axis = 1)\n",
    "\n",
    "remove_columns = []\n",
    "categorical_columns = []\n",
    "numerical_columns = []\n",
    "\n",
    "# 열별로 데이터 탐색 진행 = column을 순차대로 탐색하는 것과 같음\n",
    "for c, t in X.iteritems():\n",
    "    \n",
    "    # 데이터가 만약 수치형이 아니라면 categorical에 대해 고민해 볼 필요 있음\n",
    "    if t.dtype != np.float64:\n",
    "        \n",
    "        # 데이터에 존재하는 고윳값 갯수 계산\n",
    "        n_unique = len(t.unique())\n",
    "        \n",
    "        # 고윳값이 단 하나라면 필요 없는 데이터일수 있음\n",
    "        if n_unique == 1:\n",
    "            remove_columns.append(c)\n",
    "            \n",
    "        # 아니라면 categorical preprocessing 적용\n",
    "        else:\n",
    "            categorical_columns.append(c)\n",
    "            \n",
    "    # 수치형이라면, 수치형에 대한 preprocessing 적용 \n",
    "    else:\n",
    "        numerical_columns.append(c)\n",
    "\n",
    "cat_arr, add_numerical_columns = cat_transform(df, categorical_columns)\n",
    "num_arr = num_transform(df, numerical_columns + add_numerical_columns)\n",
    "df_arr = np.concatenate([num_arr, cat_arr], 1)\n",
    "\n",
    "g = ss_kfold_fn(df_arr, Y, False)\n",
    "\n",
    "(train, valid), s = next(g)"
   ]
  },
  {
   "cell_type": "markdown",
   "id": "7cf3a068",
   "metadata": {},
   "source": [
    "# 01. Deep learning pipe line\n",
    "\n",
    "<img src = https://imgur.com/NVF2TRf.png width = 600>\n",
    "\n",
    "\n",
    "\n",
    "\n",
    "이전 시간까지 배운 ML 모델들과 신경망 모델들은 학습하는 방법에서 큰 차이를 갖습니다. \n",
    "\n",
    "가장 큰 차이는 데이터 $x$로부터 타겟 $y$를 가장 잘 설명할 수 있는 파라미터 $\\theta$를 구하기 위해, 타겟 $y$와 모델이 예측한 타겟 $\\hat{y}$의 차를 최소화하도록 모델의 파라미터를 근사시킨다는 점입니다.\n",
    "\n",
    "신경망 학습 과정에서 타겟 $y$와 모델이 예측한 타겟 $\\hat{y}$의 차를 손실(loss)라고 부릅니다.  \n",
    "\n",
    "그리고 loss를 최소화 또는 수렴시켜 최적의 해를 찾는 과정을 최적화(opmization)라고 합니다. \n",
    "\n",
    "신경망 학습을 위해 아래 요소들을 설정해야 합니다. \n",
    "\n",
    "    1. 데이터 로더  full batch?\n",
    "    2. 모델 구조\n",
    "    3. 손실 함수 \n",
    "    4. Optimizer\n",
    "    5. 평가 지표"
   ]
  },
  {
   "cell_type": "markdown",
   "id": "604d3fba",
   "metadata": {},
   "source": [
    "## 01-00. Pytorch\n",
    "\n",
    "<img src = https://upload.wikimedia.org/wikipedia/commons/thumb/c/c6/PyTorch_logo_black.svg/120px-PyTorch_logo_black.svg.png width = 150>\n",
    "\n",
    "[PyTorch](https://en.wikipedia.org/wiki/PyTorch) is a machine learning framework based on the Torch library, used for applications such as computer vision and natural language processing, originally developed by Meta AI and now part of the Linux Foundation umbrella.  \n",
    "\n",
    "It is free and open-source software released under the modified BSD license.  \n",
    "\n",
    "Although the Python interface is more polished and the primary focus of development, PyTorch also has a C++ interface.\n",
    "\n",
    "[Installation Guide](https://pytorch.org/get-started/previous-versions/)"
   ]
  },
  {
   "cell_type": "code",
   "execution_count": 2,
   "id": "c1d3ec56",
   "metadata": {},
   "outputs": [],
   "source": [
    "import torch\n",
    "import pytorch_lightning as pl\n",
    "import torchmetrics"
   ]
  },
  {
   "cell_type": "markdown",
   "id": "f38b3564",
   "metadata": {},
   "source": [
    "## 01-01. Pytorch dataloader\n",
    "\n",
    "Pytorch dataloader는 batch 단위의 데이터를 torch의 data type으로 관리하는 것을 도와주는 클래스입니다. \n",
    "\n",
    "먼저, torch dataset을 활용하여 인덱스를 입력하면 데이터를 불러오는 오브젝트를 생성합니다. \n",
    "\n",
    "그리고 생성한 dataset 오브젝트를 torch dataloader에 전달해주면, 매 학습 epoch마다 지정된 batch size의 데이터를 불러오도록 도와줍니다. "
   ]
  },
  {
   "cell_type": "code",
   "execution_count": 3,
   "id": "595f82b6",
   "metadata": {},
   "outputs": [],
   "source": [
    "# 데이터 셋 클래스의 목표는 하나입니다. \n",
    "# 파이토치 학습 프레임워크에서 데이터에 존재할 수 있는 특정 인덱스를 호출했을 때, 인덱스에 해당하는 데이터들을 리턴하는 것 입니다. \n",
    "# 불러온 데이터들은 모델의 입출력에 맞는 데이터를 불러와야 합니다. \n",
    "\n",
    "class custom_dataset(torch.utils.data.Dataset):\n",
    "    def __init__(self, x, y = None, training = True):\n",
    "        super().__init__()\n",
    "        \n",
    "        self._training = training\n",
    "        self._X = x.astype(np.float32)\n",
    "        if self._training:\n",
    "            self._Y = y\n",
    "            \n",
    "    def __len__(self):\n",
    "        return len(self._X)\n",
    "    \n",
    "    \n",
    "    def __getitem__(self, idx):\n",
    "        if self._training:\n",
    "            return self._X[idx], self._Y[idx]\n",
    "        else:\n",
    "            return self._X[idx]\n",
    "\n",
    "# Pytorch lightning은 pytorch 과정에서 항상 똑같이 반복되는 코드들을 사용자가 작성하지 않도록 도와줌으로써 피로도를 감소시킵니다. \n",
    "# Pytorch lightning datamodule 클래스를 활용하여, torch dataloader가 lightning에서 사용할 수 있도록 호환시킬 수 있습니다.\n",
    "\n",
    "        \n",
    "class pl_datamodule(pl.LightningDataModule):\n",
    "    def __init__(self, train, valid, batch_size = 64):\n",
    "        super().__init__()\n",
    "        self._train = train\n",
    "        self._valid = valid\n",
    "        self._batch_size = batch_size\n",
    "        \n",
    "                     \n",
    "    def setup(self, stage=None):\n",
    "        if stage == \"fit\" or stage is None:\n",
    "            self.train_dataset = custom_dataset(*self._train)\n",
    "            self.valid_dataset = custom_dataset(*self._valid)\n",
    "\n",
    "        elif stage == \"test\" or stage is None:\n",
    "            pass\n",
    "                     \n",
    "                     \n",
    "    def train_dataloader(self):\n",
    "        return torch.utils.data.DataLoader(self.train_dataset, batch_size = self._batch_size, shuffle = True)\n",
    "                     \n",
    "        \n",
    "    def val_dataloader(self):\n",
    "        return torch.utils.data.DataLoader(self.valid_dataset, batch_size = self._batch_size, shuffle = False)"
   ]
  },
  {
   "cell_type": "code",
   "execution_count": 4,
   "id": "7c70fcfe",
   "metadata": {},
   "outputs": [],
   "source": [
    "DM = pl_datamodule(train, valid, 16)\n",
    "DM.setup('fit')"
   ]
  },
  {
   "cell_type": "code",
   "execution_count": 5,
   "id": "4e388c55",
   "metadata": {},
   "outputs": [
    {
     "name": "stdout",
     "output_type": "stream",
     "text": [
      "torch.Size([16, 48]) torch.Size([16])\n",
      "tensor([ 0.7877,  0.8993,  0.7526,  0.7784,  0.4257,  1.7880, -0.7499, -1.0107,\n",
      "         0.3118, -0.3502, -0.1263,  1.1818,  1.0250, -0.0742, -0.0805, -0.5622,\n",
      "        -0.3008,  0.6974, -0.0716,  0.7413, -0.1993, -0.2824,  0.8051, -0.0160,\n",
      "         0.8506, -0.1994,  1.0000,  0.0000,  0.0000,  0.0000,  0.0000,  0.0000,\n",
      "         0.0000,  1.0000,  0.0000,  0.0000,  0.0000,  0.0000,  0.0000,  0.0000,\n",
      "         1.0000,  0.0000,  0.0000,  0.0000,  1.0000,  1.0000,  0.0000,  0.0000]) tensor(0)\n"
     ]
    }
   ],
   "source": [
    "# 고정된 데이터 순서의 반복은 학습에 영향을 끼칩니다. \n",
    "# 따라서 학습과정을 위한 데이터 로더는 반복할때마다 데이터가 섞이게 됩니다. \n",
    "\n",
    "for torch_x, torch_y in DM.train_dataloader():\n",
    "    break\n",
    "print(torch_x.shape, torch_y.shape)\n",
    "print(torch_x[0], torch_y[0])"
   ]
  },
  {
   "cell_type": "code",
   "execution_count": 6,
   "id": "e1d6dfdd",
   "metadata": {},
   "outputs": [
    {
     "name": "stdout",
     "output_type": "stream",
     "text": [
      "torch.Size([16, 48]) torch.Size([16])\n",
      "tensor([-0.8048,  0.0222, -2.1971, -1.9635, -0.2876,  0.1244,  0.7658, -0.0955,\n",
      "        -4.2095, -0.3502, -0.1263, -0.0360, -0.6698, -0.2257, -0.0805, -0.4304,\n",
      "        -0.3008, -2.5286, -1.9861, -1.5213, -0.1993, -0.2824, -2.8383, -2.0426,\n",
      "        -1.4715, -0.1994,  1.0000,  0.0000,  0.0000,  0.0000,  0.0000,  0.0000,\n",
      "         0.0000,  0.0000,  0.0000,  0.0000,  0.0000,  1.0000,  0.0000,  0.0000,\n",
      "         1.0000,  1.0000,  0.0000,  0.0000,  1.0000,  1.0000,  0.0000,  0.0000]) tensor(2)\n"
     ]
    }
   ],
   "source": [
    "# 고정된 데이터 순서의 반복은 학습에 영향을 끼칩니다. \n",
    "# 한편 검증은 모델의 파라미터를 학습하지 않기 떄문에, 항상 고정된 순서로 검증해도 무방합니다.\n",
    "\n",
    "for torch_x, torch_y in DM.val_dataloader():\n",
    "    break\n",
    "print(torch_x.shape, torch_y.shape)\n",
    "print(torch_x[0], torch_y[0])"
   ]
  },
  {
   "cell_type": "markdown",
   "id": "33aa5aa5",
   "metadata": {},
   "source": [
    "## 01-02. Pytorch Model\n",
    "\n",
    "Pytorch는 deep learning을 위한 가장 많이 사용되는 패키지 중 하나입니다. \n",
    "\n",
    "Pytorch의 장점 중 하나는 neural layer의 연결 과정에서 python coding style을 고수한다는 사실입니다. \n",
    "\n",
    "아래 pytorch lightning module을 활용하여 pytorch의 학습 과정을 보다 간소화 할 수 있습니다. \n",
    "\n"
   ]
  },
  {
   "cell_type": "code",
   "execution_count": 7,
   "id": "91d32e87",
   "metadata": {},
   "outputs": [
    {
     "name": "stdout",
     "output_type": "stream",
     "text": [
      "21 64\n",
      "64 64\n",
      "64 3\n",
      "end\n"
     ]
    }
   ],
   "source": [
    "l = [21,64,64,3]\n",
    "\n",
    "for i, o in zip(l, l[1:]):\n",
    "    print(i,o)\n",
    "else:\n",
    "    print('end')"
   ]
  },
  {
   "cell_type": "code",
   "execution_count": 8,
   "id": "58de7a64",
   "metadata": {},
   "outputs": [],
   "source": [
    "class pl_model(pl.LightningModule):\n",
    "    def __init__(self, dims, lr = 1e-3, device = None):\n",
    "        super().__init__()\n",
    "            \n",
    "        self.input_dims = dims\n",
    "        self.output_dims = dims[1:]\n",
    "        self.dims_flag = [False] * (len(self.output_dims) - 1) + [True]\n",
    "        self._lr = lr\n",
    "        \n",
    "        self.build_model()\n",
    "        \n",
    "        self.loss_fn = torch.nn.CrossEntropyLoss()\n",
    "        \n",
    "        self.acc_fn = torchmetrics.Accuracy(num_classes = dims[-1])\n",
    "        self.auc_fn = torchmetrics.AUROC(num_classes = dims[-1])\n",
    "        self.f1_fn = torchmetrics.F1Score(num_classes = dims[-1], average = 'macro')\n",
    "        \n",
    "    \n",
    "    def configure_optimizers(self):\n",
    "        return torch.optim.Adam(self.parameters(), self._lr)\n",
    "\n",
    "    \n",
    "    def build_block(self, i, o, output_flag = False):\n",
    "        if output_flag:\n",
    "            return torch.nn.Linear(i,o)\n",
    "        else:\n",
    "            return torch.nn.Sequential(\n",
    "                torch.nn.Linear(i, o),\n",
    "#                 torch.nn.BatchNorm1d(o),\n",
    "                torch.nn.ReLU(),\n",
    "#                 torch.nn.Dropout(),\n",
    "            )\n",
    "    \n",
    "    \n",
    "    def build_model(self):\n",
    "        nets = []\n",
    "        for i,o,f in zip(self.input_dims, self.output_dims, self.dims_flag):\n",
    "            print(i,o,f)\n",
    "            nets.append(self.build_block(i,o,f))\n",
    "        self.net = torch.nn.ModuleList(nets)\n",
    "\n",
    "        \n",
    "    def forward(self, x):\n",
    "        for l in self.net:\n",
    "            x = l(x)\n",
    "        return x\n",
    "    \n",
    "    \n",
    "    def training_step(self, batch, batch_idx):\n",
    "        x, y = batch\n",
    "        y_hat = self(x)\n",
    "        loss = self.loss_fn(y_hat, y)\n",
    "        self.log('train_loss', loss, on_step=False, on_epoch=True, prog_bar=True, logger=True)\n",
    "        \n",
    "        acc = self.acc_fn(y_hat, y)\n",
    "        self.log('train_acc', acc, on_step=False, on_epoch=True, prog_bar=True, logger=True)\n",
    "        \n",
    "        auc = self.auc_fn(y_hat, y)\n",
    "        self.log('train_auc', auc, on_step=False, on_epoch=True, prog_bar=True, logger=True)\n",
    "        \n",
    "        f1 = self.f1_fn(y_hat, y)\n",
    "        self.log('train_f1_macro', f1, on_step=False, on_epoch=True, prog_bar=True, logger=True)\n",
    "        \n",
    "        return loss\n",
    "\n",
    "            \n",
    "    def validation_step(self, batch, batch_idx):\n",
    "        x, y = batch\n",
    "        y_hat = self(x)\n",
    "        loss = self.loss_fn(y_hat, y)\n",
    "        loss = self.loss_fn(y_hat, y)\n",
    "        self.log('valid_loss', loss, on_step=False, on_epoch=True, prog_bar=True, logger=True)\n",
    "        \n",
    "        acc = self.acc_fn(y_hat, y)\n",
    "        self.log('valid_acc', acc, on_step=False, on_epoch=True, prog_bar=True, logger=True)\n",
    "        \n",
    "        auc = self.auc_fn(y_hat, y)\n",
    "        self.log('valid_auc', auc, on_step=False, on_epoch=True, prog_bar=True, logger=True)\n",
    "        \n",
    "        f1 = self.f1_fn(y_hat, y)\n",
    "        self.log('valid_f1_macro', f1, on_step=False, on_epoch=True, prog_bar=True, logger=True)\n",
    "        return loss\n",
    "\n",
    "    \n",
    "    def predict_step(self, batch, batch_idx):\n",
    "        return self(batch[0])\n",
    "        \n",
    "    "
   ]
  },
  {
   "cell_type": "code",
   "execution_count": 9,
   "id": "8ec3ca7a",
   "metadata": {},
   "outputs": [
    {
     "data": {
      "text/plain": [
       "[48, 128, 128, 128, 3]"
      ]
     },
     "execution_count": 9,
     "metadata": {},
     "output_type": "execute_result"
    }
   ],
   "source": [
    "dims = [df_arr.shape[1], 128, 128, 128, len(np.unique(Y))]\n",
    "dims"
   ]
  },
  {
   "cell_type": "code",
   "execution_count": 10,
   "id": "36da0633",
   "metadata": {},
   "outputs": [
    {
     "name": "stdout",
     "output_type": "stream",
     "text": [
      "48 128 False\n",
      "128 128 False\n",
      "128 128 False\n",
      "128 3 True\n"
     ]
    },
    {
     "name": "stderr",
     "output_type": "stream",
     "text": [
      "c:\\Users\\keb20\\anaconda3\\lib\\site-packages\\torchmetrics\\utilities\\prints.py:36: UserWarning: Metric `AUROC` will save all targets and predictions in buffer. For large datasets this may lead to large memory footprint.\n",
      "  warnings.warn(*args, **kwargs)\n"
     ]
    },
    {
     "data": {
      "text/plain": [
       "pl_model(\n",
       "  (net): ModuleList(\n",
       "    (0): Sequential(\n",
       "      (0): Linear(in_features=48, out_features=128, bias=True)\n",
       "      (1): ReLU()\n",
       "    )\n",
       "    (1): Sequential(\n",
       "      (0): Linear(in_features=128, out_features=128, bias=True)\n",
       "      (1): ReLU()\n",
       "    )\n",
       "    (2): Sequential(\n",
       "      (0): Linear(in_features=128, out_features=128, bias=True)\n",
       "      (1): ReLU()\n",
       "    )\n",
       "    (3): Linear(in_features=128, out_features=3, bias=True)\n",
       "  )\n",
       "  (loss_fn): CrossEntropyLoss()\n",
       "  (acc_fn): Accuracy()\n",
       "  (auc_fn): AUROC()\n",
       "  (f1_fn): F1Score()\n",
       ")"
      ]
     },
     "execution_count": 10,
     "metadata": {},
     "output_type": "execute_result"
    }
   ],
   "source": [
    "model = pl_model(dims)\n",
    "model"
   ]
  },
  {
   "cell_type": "code",
   "execution_count": 11,
   "id": "6ca1e2cf",
   "metadata": {},
   "outputs": [
    {
     "name": "stderr",
     "output_type": "stream",
     "text": [
      "GPU available: False, used: False\n",
      "TPU available: False, using: 0 TPU cores\n",
      "IPU available: False, using: 0 IPUs\n",
      "HPU available: False, using: 0 HPUs\n",
      "\n",
      "  | Name    | Type             | Params\n",
      "---------------------------------------------\n",
      "0 | net     | ModuleList       | 39.7 K\n",
      "1 | loss_fn | CrossEntropyLoss | 0     \n",
      "2 | acc_fn  | Accuracy         | 0     \n",
      "3 | auc_fn  | AUROC            | 0     \n",
      "4 | f1_fn   | F1Score          | 0     \n",
      "---------------------------------------------\n",
      "39.7 K    Trainable params\n",
      "0         Non-trainable params\n",
      "39.7 K    Total params\n",
      "0.159     Total estimated model params size (MB)\n"
     ]
    },
    {
     "name": "stdout",
     "output_type": "stream",
     "text": [
      "Sanity Checking DataLoader 0:   0%|          | 0/2 [00:00<?, ?it/s]"
     ]
    },
    {
     "name": "stderr",
     "output_type": "stream",
     "text": [
      "c:\\Users\\keb20\\anaconda3\\lib\\site-packages\\pytorch_lightning\\trainer\\connectors\\data_connector.py:224: PossibleUserWarning: The dataloader, val_dataloader 0, does not have many workers which may be a bottleneck. Consider increasing the value of the `num_workers` argument` (try 8 which is the number of cpus on this machine) in the `DataLoader` init to improve performance.\n",
      "  rank_zero_warn(\n"
     ]
    },
    {
     "name": "stdout",
     "output_type": "stream",
     "text": [
      "                                                                           "
     ]
    },
    {
     "name": "stderr",
     "output_type": "stream",
     "text": [
      "c:\\Users\\keb20\\anaconda3\\lib\\site-packages\\torchmetrics\\utilities\\prints.py:36: UserWarning: No positive samples in targets, true positive value should be meaningless. Returning zero tensor in true positive score\n",
      "  warnings.warn(*args, **kwargs)\n",
      "c:\\Users\\keb20\\anaconda3\\lib\\site-packages\\pytorch_lightning\\trainer\\connectors\\data_connector.py:224: PossibleUserWarning: The dataloader, train_dataloader, does not have many workers which may be a bottleneck. Consider increasing the value of the `num_workers` argument` (try 8 which is the number of cpus on this machine) in the `DataLoader` init to improve performance.\n",
      "  rank_zero_warn(\n"
     ]
    },
    {
     "name": "stdout",
     "output_type": "stream",
     "text": [
      "Epoch 0:  80%|███████▉  | 222/278 [00:18<00:04, 11.96it/s, loss=0.622, v_num=1]"
     ]
    },
    {
     "name": "stderr",
     "output_type": "stream",
     "text": [
      "c:\\Users\\keb20\\anaconda3\\lib\\site-packages\\torchmetrics\\utilities\\prints.py:36: UserWarning: No negative samples in targets, false positive value should be meaningless. Returning zero tensor in false positive score\n",
      "  warnings.warn(*args, **kwargs)\n"
     ]
    },
    {
     "name": "stdout",
     "output_type": "stream",
     "text": [
      "Epoch 49: 100%|██████████| 278/278 [00:15<00:00, 17.82it/s, loss=0.0718, v_num=1, valid_loss=2.420, valid_acc=0.728, valid_auc=0.779, valid_f1_macro=0.597, train_loss=0.0714, train_acc=0.973, train_auc=0.975, train_f1_macro=0.961] "
     ]
    },
    {
     "name": "stderr",
     "output_type": "stream",
     "text": [
      "`Trainer.fit` stopped: `max_epochs=50` reached.\n"
     ]
    },
    {
     "name": "stdout",
     "output_type": "stream",
     "text": [
      "Epoch 49: 100%|██████████| 278/278 [00:15<00:00, 17.72it/s, loss=0.0718, v_num=1, valid_loss=2.420, valid_acc=0.728, valid_auc=0.779, valid_f1_macro=0.597, train_loss=0.0714, train_acc=0.973, train_auc=0.975, train_f1_macro=0.961]\n"
     ]
    }
   ],
   "source": [
    "trainer = pl.Trainer(\n",
    "#     accelerator='gpu', \n",
    "#     devices=[0],\n",
    "    max_epochs=50,\n",
    ")\n",
    "\n",
    "model.train()\n",
    "trainer.fit(model, DM)"
   ]
  },
  {
   "cell_type": "code",
   "execution_count": 12,
   "id": "b056351a",
   "metadata": {},
   "outputs": [],
   "source": [
    "from tensorboard.backend.event_processing.event_file_loader import EventFileLoader\n",
    "from glob import glob\n",
    "\n",
    "numb_logs = len(glob(os.path.join('.','lightning_logs','*'))) - 1\n",
    "\n",
    "log_path = glob(os.path.join('.','lightning_logs', f'version_{numb_logs}', 'events*'))[0]\n",
    "\n",
    "load_logs = EventFileLoader(log_path)\n",
    "\n",
    "load_logs = [i for i in load_logs.Load()]\n",
    "\n",
    "def tag_parser(log):\n",
    "    try:\n",
    "        tag = log.summary.value[0].tag\n",
    "        value = log.summary.value[0].tensor.float_val[0]\n",
    "        return tag, value\n",
    "    except:\n",
    "        return None\n",
    "\n",
    "logger = dict()\n",
    "for log in load_logs[1:]:\n",
    "    key, value = tag_parser(log)\n",
    "    if key not in logger.keys():\n",
    "        logger[key] = [value]\n",
    "    else:\n",
    "        logger[key].append(value)\n",
    "else:\n",
    "    logger['epoch'] = logger['epoch'][::2]\n"
   ]
  },
  {
   "cell_type": "code",
   "execution_count": 13,
   "id": "805c2428",
   "metadata": {
    "scrolled": false
   },
   "outputs": [
    {
     "name": "stderr",
     "output_type": "stream",
     "text": [
      "C:\\Users\\keb20\\AppData\\Local\\Temp/ipykernel_37296/1405271350.py:34: UserWarning: Matplotlib is currently using module://matplotlib_inline.backend_inline, which is a non-GUI backend, so cannot show the figure.\n",
      "  fig.show()\n"
     ]
    },
    {
     "data": {
      "image/png": "[encoded data removed]",
      "text/plain": [
       "<Figure size 720x432 with 4 Axes>"
      ]
     },
     "metadata": {
      "needs_background": "light"
     },
     "output_type": "display_data"
    }
   ],
   "source": [
    "fig,ax = plt.subplots(4,1,figsize = (10, 6), sharex = True)\n",
    "ax[0].plot(logger['epoch'], logger['train_loss'])\n",
    "ax[0].plot(logger['epoch'], logger['valid_loss'])\n",
    "argmin_loss = np.argmin(logger['valid_loss'])\n",
    "ax[0].plot(argmin_loss, logger['valid_loss'][argmin_loss],'xr')\n",
    "ax[0].set_ylabel('Loss')\n",
    "ax[0].legend(['Train','Validation'])\n",
    "\n",
    "ax[1].plot(logger['epoch'], logger['train_acc'])\n",
    "ax[1].plot(logger['epoch'], logger['valid_acc'])\n",
    "argmax_acc = np.argmax(logger['valid_acc'])\n",
    "ax[1].plot(argmax_acc, logger['valid_acc'][argmax_acc],'xr')\n",
    "ax[1].set_ylabel('Accuracy')\n",
    "ax[1].set_xlabel('Epochs')\n",
    "ax[1].legend(['Train','Validation'])\n",
    "\n",
    "ax[2].plot(logger['epoch'], logger['train_auc'])\n",
    "ax[2].plot(logger['epoch'], logger['valid_auc'])\n",
    "argmax_auc = np.argmax(logger['valid_auc'])\n",
    "ax[2].plot(argmax_auc, logger['valid_auc'][argmax_auc],'xr')\n",
    "ax[2].set_ylabel('AUROC')\n",
    "ax[2].set_xlabel('Epochs')\n",
    "ax[2].legend(['Train','Validation'])\n",
    "\n",
    "ax[3].plot(logger['epoch'], logger['train_f1_macro'])\n",
    "ax[3].plot(logger['epoch'], logger['valid_f1_macro'])\n",
    "argmax_f1_macro = np.argmax(logger['valid_f1_macro'])\n",
    "ax[3].plot(argmax_f1_macro, logger['valid_f1_macro'][argmax_f1_macro],'xr')\n",
    "ax[3].set_ylabel('F1 macro')\n",
    "ax[3].set_xlabel('Epochs')\n",
    "ax[3].legend(['Train','Validation'])\n",
    "\n",
    "fig.tight_layout()\n",
    "fig.show()"
   ]
  }
 ],
 "metadata": {
  "kernelspec": {
   "display_name": "Python 3.9.7 ('base')",
   "language": "python",
   "name": "python3"
  },
  "language_info": {
   "codemirror_mode": {
    "name": "ipython",
    "version": 3
   },
   "file_extension": ".py",
   "mimetype": "text/x-python",
   "name": "python",
   "nbconvert_exporter": "python",
   "pygments_lexer": "ipython3",
   "version": "3.9.7"
  },
  "vscode": {
   "interpreter": {
    "hash": "1ddd09a61b2c7e17c2a62d168de822f4c67e18302d8919811a53cdcb291e5f9a"
   }
  }
 },
 "nbformat": 4,
 "nbformat_minor": 5
}
